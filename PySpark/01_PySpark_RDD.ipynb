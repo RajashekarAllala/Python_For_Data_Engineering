{
  "nbformat": 4,
  "nbformat_minor": 0,
  "metadata": {
    "colab": {
      "provenance": [],
      "authorship_tag": "ABX9TyPbnnp48n2H59ylgaPDreG3",
      "include_colab_link": true
    },
    "kernelspec": {
      "name": "python3",
      "display_name": "Python 3"
    },
    "language_info": {
      "name": "python"
    }
  },
  "cells": [
    {
      "cell_type": "markdown",
      "metadata": {
        "id": "view-in-github",
        "colab_type": "text"
      },
      "source": [
        "<a href=\"https://colab.research.google.com/github/RajashekarAllala/Python_For_Data_Engineering/blob/main/PySpark/01_PySpark_RDD.ipynb\" target=\"_parent\"><img src=\"https://colab.research.google.com/assets/colab-badge.svg\" alt=\"Open In Colab\"/></a>"
      ]
    },
    {
      "cell_type": "code",
      "execution_count": 32,
      "metadata": {
        "colab": {
          "base_uri": "https://localhost:8080/"
        },
        "id": "rxBNOdsF3Hbl",
        "outputId": "792a232d-d09d-49fc-9127-7408adeb437b"
      },
      "outputs": [
        {
          "output_type": "stream",
          "name": "stdout",
          "text": [
            "Requirement already satisfied: pyspark in /usr/local/lib/python3.12/dist-packages (3.5.1)\n",
            "Requirement already satisfied: py4j==0.10.9.7 in /usr/local/lib/python3.12/dist-packages (from pyspark) (0.10.9.7)\n",
            "Requirement already satisfied: findspark in /usr/local/lib/python3.12/dist-packages (2.0.1)\n"
          ]
        }
      ],
      "source": [
        "# Install PySpark\n",
        "!pip install pyspark\n",
        "!pip install findspark"
      ]
    },
    {
      "cell_type": "code",
      "source": [
        "from pyspark.sql import SparkSession, DataFrame\n",
        "spark = SparkSession.builder.appName(\"Spark DataFrames\").getOrCreate()"
      ],
      "metadata": {
        "id": "wb3JaHkG3-CN"
      },
      "execution_count": 2,
      "outputs": []
    },
    {
      "cell_type": "code",
      "source": [
        "# Create RDD\n",
        "sc = spark.sparkContext\n",
        "data = [1, 2, 3, 4, 5]\n",
        "# Parallelize the data\n",
        "rdd = sc.parallelize(data)\n",
        "rdd.collect()"
      ],
      "metadata": {
        "colab": {
          "base_uri": "https://localhost:8080/"
        },
        "id": "nydC-8WU4DHx",
        "outputId": "d141041e-92e2-4b66-9aaa-e748aad9b47d"
      },
      "execution_count": 3,
      "outputs": [
        {
          "output_type": "execute_result",
          "data": {
            "text/plain": [
              "[1, 2, 3, 4, 5]"
            ]
          },
          "metadata": {},
          "execution_count": 3
        }
      ]
    },
    {
      "cell_type": "code",
      "source": [
        "# Create a RDD from a textFile\n",
        "rdd1=sc.textFile(\"/content/Data_Sets/numbers.txt\")\n",
        "rdd1.take(20)"
      ],
      "metadata": {
        "colab": {
          "base_uri": "https://localhost:8080/"
        },
        "id": "HTyCUQVG4Hui",
        "outputId": "ed94faf3-3ae1-4e33-a0d8-788978cdb3e1"
      },
      "execution_count": 6,
      "outputs": [
        {
          "output_type": "execute_result",
          "data": {
            "text/plain": [
              "['1',\n",
              " '2',\n",
              " '3',\n",
              " '4',\n",
              " '5',\n",
              " '6',\n",
              " '7',\n",
              " '8',\n",
              " '9',\n",
              " '10',\n",
              " '11',\n",
              " '12',\n",
              " '13',\n",
              " '14',\n",
              " '15',\n",
              " '16',\n",
              " '17',\n",
              " '18',\n",
              " '19',\n",
              " '20']"
            ]
          },
          "metadata": {},
          "execution_count": 6
        }
      ]
    },
    {
      "cell_type": "code",
      "source": [
        "# Create a RDD from Range\n",
        "\n",
        "rdd2 = sc.range(start=0, end=50, step=5)\n",
        "rdd3 = rdd2.take(5)\n",
        "rdd3 = sc.parallelize(rdd3)\n",
        "rdd3.collect()"
      ],
      "metadata": {
        "colab": {
          "base_uri": "https://localhost:8080/"
        },
        "id": "bnOaG4455Xe9",
        "outputId": "a7c60c07-776e-481a-82cf-40f26b5ca919"
      },
      "execution_count": 26,
      "outputs": [
        {
          "output_type": "execute_result",
          "data": {
            "text/plain": [
              "[0, 5, 10, 15, 20]"
            ]
          },
          "metadata": {},
          "execution_count": 26
        }
      ]
    },
    {
      "cell_type": "code",
      "source": [
        "# Using Map, create a new list with square of numbers\n",
        "sqrs = rdd3.map(lambda x: x * x)\n",
        "sqrs.collect()"
      ],
      "metadata": {
        "colab": {
          "base_uri": "https://localhost:8080/"
        },
        "id": "lJ_aWvOo53yp",
        "outputId": "5ab9862f-3c00-49d9-b9dc-bdab3c7a2ec3"
      },
      "execution_count": 27,
      "outputs": [
        {
          "output_type": "execute_result",
          "data": {
            "text/plain": [
              "[0, 25, 100, 225, 400]"
            ]
          },
          "metadata": {},
          "execution_count": 27
        }
      ]
    },
    {
      "cell_type": "code",
      "source": [
        "# Use map to multiply numbers with 5\n",
        "numbers = [1, 2, 3, 4, 5]\n",
        "num_rdd = sc.parallelize(numbers)\n",
        "num_rdd = num_rdd.map(lambda x: x * 5)\n",
        "num_rdd.collect()"
      ],
      "metadata": {
        "colab": {
          "base_uri": "https://localhost:8080/"
        },
        "id": "89DPzCuy8il5",
        "outputId": "8fb013cc-b616-4e44-c5d5-61a1bc8f3f75"
      },
      "execution_count": 28,
      "outputs": [
        {
          "output_type": "execute_result",
          "data": {
            "text/plain": [
              "[5, 10, 15, 20, 25]"
            ]
          },
          "metadata": {},
          "execution_count": 28
        }
      ]
    },
    {
      "cell_type": "code",
      "source": [
        "# Original List: [\"quick\", \"bright\", \"silent\"]\n",
        "# Use map to append the suffix “ly” to each word.\n",
        "words = [\"quick\", \"bright\", \"silent\"]\n",
        "words_rdd = sc.parallelize(words)\n",
        "words_rdd = words_rdd.map(lambda x: x + \"ly\")\n",
        "words_rdd.collect()"
      ],
      "metadata": {
        "colab": {
          "base_uri": "https://localhost:8080/"
        },
        "id": "aCQdkA1d-E-2",
        "outputId": "cffb3117-e017-448f-e372-d3cb9589ba32"
      },
      "execution_count": 30,
      "outputs": [
        {
          "output_type": "execute_result",
          "data": {
            "text/plain": [
              "['quickly', 'brightly', 'silently']"
            ]
          },
          "metadata": {},
          "execution_count": 30
        }
      ]
    },
    {
      "cell_type": "code",
      "source": [
        "# FlatMap - Break each sentence into words and make a single list of all the words.\n",
        "sentences = [\"Hello world\", \"Spark is great\", \"Map and flatMap\"]\n",
        "sentences_rdd = sc.parallelize(sentences)\n",
        "words_rdd = sentences_rdd.flatMap(lambda x: x.split(\" \"))\n",
        "words_rdd.collect()"
      ],
      "metadata": {
        "colab": {
          "base_uri": "https://localhost:8080/"
        },
        "id": "FWz5HruX-T7S",
        "outputId": "fde96c82-2eb9-48b0-e7d4-2b160f70d234"
      },
      "execution_count": 31,
      "outputs": [
        {
          "output_type": "execute_result",
          "data": {
            "text/plain": [
              "['Hello', 'world', 'Spark', 'is', 'great', 'Map', 'and', 'flatMap']"
            ]
          },
          "metadata": {},
          "execution_count": 31
        }
      ]
    }
  ]
}