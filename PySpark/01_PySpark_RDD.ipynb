{
  "nbformat": 4,
  "nbformat_minor": 0,
  "metadata": {
    "colab": {
      "provenance": [],
      "authorship_tag": "ABX9TyPGvvHKM/4ukalfnTy2+8R/",
      "include_colab_link": true
    },
    "kernelspec": {
      "name": "python3",
      "display_name": "Python 3"
    },
    "language_info": {
      "name": "python"
    }
  },
  "cells": [
    {
      "cell_type": "markdown",
      "metadata": {
        "id": "view-in-github",
        "colab_type": "text"
      },
      "source": [
        "<a href=\"https://colab.research.google.com/github/RajashekarAllala/Python_For_Data_Engineering/blob/main/PySpark/01_PySpark_RDD.ipynb\" target=\"_parent\"><img src=\"https://colab.research.google.com/assets/colab-badge.svg\" alt=\"Open In Colab\"/></a>"
      ]
    },
    {
      "cell_type": "code",
      "execution_count": 1,
      "metadata": {
        "colab": {
          "base_uri": "https://localhost:8080/"
        },
        "id": "rxBNOdsF3Hbl",
        "outputId": "bc958ebe-0e91-4534-e48b-828c56ced71d"
      },
      "outputs": [
        {
          "output_type": "stream",
          "name": "stdout",
          "text": [
            "Requirement already satisfied: pyspark in /usr/local/lib/python3.12/dist-packages (3.5.1)\n",
            "Requirement already satisfied: py4j==0.10.9.7 in /usr/local/lib/python3.12/dist-packages (from pyspark) (0.10.9.7)\n",
            "Collecting findspark\n",
            "  Downloading findspark-2.0.1-py2.py3-none-any.whl.metadata (352 bytes)\n",
            "Downloading findspark-2.0.1-py2.py3-none-any.whl (4.4 kB)\n",
            "Installing collected packages: findspark\n",
            "Successfully installed findspark-2.0.1\n"
          ]
        }
      ],
      "source": [
        "# Install PySpark\n",
        "!pip install pyspark\n",
        "!pip install findspark"
      ]
    },
    {
      "cell_type": "code",
      "source": [
        "from pyspark.sql import SparkSession, DataFrame\n",
        "spark = SparkSession.builder.appName(\"Spark DataFrames\").getOrCreate()"
      ],
      "metadata": {
        "id": "wb3JaHkG3-CN"
      },
      "execution_count": 2,
      "outputs": []
    },
    {
      "cell_type": "code",
      "source": [
        "# Create RDD\n",
        "sc = spark.sparkContext\n",
        "data = [1, 2, 3, 4, 5]\n",
        "# Parallelize the data\n",
        "rdd = sc.parallelize(data)\n",
        "rdd.collect()"
      ],
      "metadata": {
        "colab": {
          "base_uri": "https://localhost:8080/"
        },
        "id": "nydC-8WU4DHx",
        "outputId": "7314d914-03a1-4db9-c4c7-334293a887d9"
      },
      "execution_count": 7,
      "outputs": [
        {
          "output_type": "execute_result",
          "data": {
            "text/plain": [
              "[1, 2, 3, 4, 5]"
            ]
          },
          "metadata": {},
          "execution_count": 7
        }
      ]
    },
    {
      "cell_type": "code",
      "source": [
        "# Create a RDD from a textFile\n",
        "rdd1=sc.textFile(\"/content/drive/MyDrive/Data_Sets/numbers.txt\")\n",
        "rdd1.take(10)"
      ],
      "metadata": {
        "colab": {
          "base_uri": "https://localhost:8080/"
        },
        "id": "HTyCUQVG4Hui",
        "outputId": "68f772f4-66b1-4e21-90e6-5a357e2449ec"
      },
      "execution_count": 12,
      "outputs": [
        {
          "output_type": "execute_result",
          "data": {
            "text/plain": [
              "['1', '2', '3', '4', '5', '6', '7', '8', '9', '10']"
            ]
          },
          "metadata": {},
          "execution_count": 12
        }
      ]
    },
    {
      "cell_type": "code",
      "source": [
        "# Create a RDD from Range\n",
        "\n",
        "rdd2 = sc.range(start=0, end=50, step=5)\n",
        "rdd3 = rdd2.collect()\n",
        "rdd3 = sc.parallelize(rdd3)\n",
        "rdd3.collect()"
      ],
      "metadata": {
        "colab": {
          "base_uri": "https://localhost:8080/"
        },
        "id": "bnOaG4455Xe9",
        "outputId": "8607153c-e2c9-4b57-8acc-3b1803962577"
      },
      "execution_count": 14,
      "outputs": [
        {
          "output_type": "execute_result",
          "data": {
            "text/plain": [
              "[0, 5, 10, 15, 20, 25, 30, 35, 40, 45]"
            ]
          },
          "metadata": {},
          "execution_count": 14
        }
      ]
    },
    {
      "cell_type": "markdown",
      "source": [
        "**Lambda Function**\n",
        "\n",
        "* It's a small anonymous function.\n",
        "* It can take any number of arguments.\n",
        "* It must have only one expression (no statements or multi-line logic).\n",
        "* Returns the result of the expression automatically."
      ],
      "metadata": {
        "id": "1d_xJlX1Z-Cj"
      }
    },
    {
      "cell_type": "code",
      "source": [
        "# Square a number\n",
        "\n",
        "square = lambda x: x ** 2\n",
        "result = square(5)\n",
        "print(\"Square of 5 is:\", result)\n",
        "\n",
        "# Add two numbers\n",
        "\n",
        "add = lambda a, b: a + b\n",
        "result = add(3, 7)\n",
        "print(\"Addition of a and b:\", result)\n",
        "\n",
        "# Use inside map()\n",
        "numbers = [1, 2, 3, 4, 5]\n",
        "squares = list(map(lambda x: x ** 2, numbers))\n",
        "print(\"Squares of numbers:\", squares)"
      ],
      "metadata": {
        "colab": {
          "base_uri": "https://localhost:8080/"
        },
        "id": "528OEPguaTq-",
        "outputId": "3497d2f9-a2ec-42d6-cc4c-d06a6f6a13c7"
      },
      "execution_count": 31,
      "outputs": [
        {
          "output_type": "stream",
          "name": "stdout",
          "text": [
            "Square of 5 is: 25\n",
            "Addition of a and b: 10\n",
            "Squares of numbers: [1, 4, 9, 16, 25]\n"
          ]
        }
      ]
    },
    {
      "cell_type": "code",
      "source": [
        "\n",
        "# Using Map, create a new list with square of numbers\n",
        "sqrs = rdd3.map(lambda x: x * x)\n",
        "print(\"Squares of 5 numbers from the RDD3:\", sqrs.take(5))"
      ],
      "metadata": {
        "colab": {
          "base_uri": "https://localhost:8080/"
        },
        "id": "lJ_aWvOo53yp",
        "outputId": "2bb00b61-c266-4de5-f966-28a9c669ec6d"
      },
      "execution_count": 21,
      "outputs": [
        {
          "output_type": "stream",
          "name": "stdout",
          "text": [
            "Squares of 5 numbers from the RDD3: [0, 25, 100, 225, 400]\n"
          ]
        }
      ]
    },
    {
      "cell_type": "code",
      "source": [
        "# Use map to multiply numbers with 5\n",
        "numbers = [1, 2, 3, 4, 5]\n",
        "num_rdd = sc.parallelize(numbers)\n",
        "num_rdd = num_rdd.map(lambda x: x * 5)\n",
        "num_rdd.collect()"
      ],
      "metadata": {
        "colab": {
          "base_uri": "https://localhost:8080/"
        },
        "id": "89DPzCuy8il5",
        "outputId": "886d0c65-80e2-401b-8595-611653bf21a1"
      },
      "execution_count": 22,
      "outputs": [
        {
          "output_type": "execute_result",
          "data": {
            "text/plain": [
              "[5, 10, 15, 20, 25]"
            ]
          },
          "metadata": {},
          "execution_count": 22
        }
      ]
    },
    {
      "cell_type": "code",
      "source": [
        "# Original List: [\"quick\", \"bright\", \"silent\"]\n",
        "# Use map to append the suffix “ly” to each word.\n",
        "words = [\"quick\", \"bright\", \"silent\"]\n",
        "words_rdd = sc.parallelize(words)\n",
        "words_rdd = words_rdd.map(lambda x: x + \"ly\")\n",
        "words_rdd.collect()"
      ],
      "metadata": {
        "colab": {
          "base_uri": "https://localhost:8080/"
        },
        "id": "aCQdkA1d-E-2",
        "outputId": "8c17b7d7-0aee-4b5e-bb15-f07988bbbacc"
      },
      "execution_count": 23,
      "outputs": [
        {
          "output_type": "execute_result",
          "data": {
            "text/plain": [
              "['quickly', 'brightly', 'silently']"
            ]
          },
          "metadata": {},
          "execution_count": 23
        }
      ]
    },
    {
      "cell_type": "code",
      "source": [
        "import random\n",
        "\n",
        "data = [random.randint(1, 100) for i in range(5)]\n",
        "rdd = sc.parallelize(data)\n",
        "result = rdd.map(lambda x: str(x) + \" - Even\" if x % 2 == 0 else str(x) + \" - Odd\")\n",
        "result.collect()"
      ],
      "metadata": {
        "colab": {
          "base_uri": "https://localhost:8080/"
        },
        "id": "mqa1NSZWbQ4g",
        "outputId": "8a5753eb-37d9-4b8e-c79a-126e620d00e0"
      },
      "execution_count": 40,
      "outputs": [
        {
          "output_type": "execute_result",
          "data": {
            "text/plain": [
              "['32 - Even', '47 - Odd', '24 - Even', '53 - Odd', '61 - Odd']"
            ]
          },
          "metadata": {},
          "execution_count": 40
        }
      ]
    },
    {
      "cell_type": "code",
      "source": [
        "# FlatMap - Break each sentence into words and make a single list of all the words.\n",
        "sentences = [\"Hello world\", \"Spark is great\", \"Map and flatMap\"]\n",
        "sentences_rdd = sc.parallelize(sentences)\n",
        "words_rdd = sentences_rdd.flatMap(lambda x: x.split(\" \"))\n",
        "words_rdd.collect()"
      ],
      "metadata": {
        "colab": {
          "base_uri": "https://localhost:8080/"
        },
        "id": "FWz5HruX-T7S",
        "outputId": "fb0bbfba-336f-4e3b-c94f-e3d897c58839"
      },
      "execution_count": 41,
      "outputs": [
        {
          "output_type": "execute_result",
          "data": {
            "text/plain": [
              "['Hello', 'world', 'Spark', 'is', 'great', 'Map', 'and', 'flatMap']"
            ]
          },
          "metadata": {},
          "execution_count": 41
        }
      ]
    },
    {
      "cell_type": "code",
      "source": [
        "# Example 2: Extracting Individual Characters from Words\n",
        "words = [\"apple\", \"banana\", \"grape\"]\n",
        "words_rdd = sc.parallelize(words)\n",
        "chars_rdd = words_rdd.flatMap(lambda x: list(x))\n",
        "chars_rdd.collect()"
      ],
      "metadata": {
        "colab": {
          "base_uri": "https://localhost:8080/"
        },
        "id": "TwyBhYDlZDhZ",
        "outputId": "a1826996-847f-4032-88f5-17d6b4fa0106"
      },
      "execution_count": 42,
      "outputs": [
        {
          "output_type": "execute_result",
          "data": {
            "text/plain": [
              "['a',\n",
              " 'p',\n",
              " 'p',\n",
              " 'l',\n",
              " 'e',\n",
              " 'b',\n",
              " 'a',\n",
              " 'n',\n",
              " 'a',\n",
              " 'n',\n",
              " 'a',\n",
              " 'g',\n",
              " 'r',\n",
              " 'a',\n",
              " 'p',\n",
              " 'e']"
            ]
          },
          "metadata": {},
          "execution_count": 42
        }
      ]
    },
    {
      "cell_type": "code",
      "source": [
        "# ReduceByKey\n",
        "# List of sales records (product, amount)\n",
        "sales = [(\"apple\", 100), (\"banana\", 200), (\"apple\", 150), (\"orange\", 300), (\"banana\", 50)]\n",
        "sales_rdd = sc.parallelize(sales)\n",
        "# Calculate total sales per product\n",
        "total_sales = sales_rdd.reduceByKey(lambda x, y: x + y)\n",
        "total_sales.collect()"
      ],
      "metadata": {
        "colab": {
          "base_uri": "https://localhost:8080/"
        },
        "id": "oIDfqo7_cmEG",
        "outputId": "010239d8-5b05-45f6-88f0-9fe3c2f9815a"
      },
      "execution_count": 43,
      "outputs": [
        {
          "output_type": "execute_result",
          "data": {
            "text/plain": [
              "[('apple', 250), ('banana', 250), ('orange', 300)]"
            ]
          },
          "metadata": {},
          "execution_count": 43
        }
      ]
    },
    {
      "cell_type": "code",
      "source": [
        "# ReduceByKey - List of words\n",
        "words = [\"apple\", \"banana\", \"apple\", \"orange\", \"banana\", \"apple\"]\n",
        "words_rdd = sc.parallelize(words)\n",
        "word_map = words_rdd.map(lambda x: (x, 1))\n",
        "print(\"Converting each word into a pair - (word, 1):\", word_map.collect())\n",
        "word_counts =  word_map.reduceByKey(lambda x, y: x + y)\n",
        "print(\"After Adding the values for each unique word key:\", word_counts.collect())"
      ],
      "metadata": {
        "colab": {
          "base_uri": "https://localhost:8080/"
        },
        "id": "m-inPexBc3ui",
        "outputId": "edaa25be-76b3-41bc-fddf-15b2706fae5c"
      },
      "execution_count": 52,
      "outputs": [
        {
          "output_type": "stream",
          "name": "stdout",
          "text": [
            "Converting each word into a pair - (word, 1): [('apple', 1), ('banana', 1), ('apple', 1), ('orange', 1), ('banana', 1), ('apple', 1)]\n",
            "After Adding the values for each unique word key: [('apple', 3), ('banana', 2), ('orange', 1)]\n"
          ]
        }
      ]
    },
    {
      "cell_type": "code",
      "source": [
        "# SortByKey\n",
        "# List of student names and scores\n",
        "student_scores = [(\"John\", 88), (\"Alice\", 95), (\"Bob\", 78), (\"Diana\", 85)]\n",
        "student_scores_rdd = sc.parallelize(student_scores)\n",
        "# Sort by score in descending order\n",
        "sorted_scores = student_scores_rdd.sortByKey(ascending=False)\n",
        "sorted_scores.collect()"
      ],
      "metadata": {
        "colab": {
          "base_uri": "https://localhost:8080/"
        },
        "id": "E66AwwyDe4N0",
        "outputId": "18956186-b052-4ef5-f988-dc3e58f80c53"
      },
      "execution_count": 53,
      "outputs": [
        {
          "output_type": "execute_result",
          "data": {
            "text/plain": [
              "[('John', 88), ('Diana', 85), ('Bob', 78), ('Alice', 95)]"
            ]
          },
          "metadata": {},
          "execution_count": 53
        }
      ]
    },
    {
      "cell_type": "code",
      "source": [
        "# List of product names and sales\n",
        "sales_data = [(\"apple\", 150), (\"banana\", 200), (\"orange\", 300), (\"grape\", 100)]\n",
        "sales_rdd = sc.parallelize(sales_data)\n",
        "# Sort by sales in descending order\n",
        "sorted_sales = sales_rdd.sortByKey(ascending=True)\n",
        "sorted_sales.collect()"
      ],
      "metadata": {
        "colab": {
          "base_uri": "https://localhost:8080/"
        },
        "id": "C7EJln1MfDjh",
        "outputId": "428b9f75-712d-43f4-8975-b642f9292c08"
      },
      "execution_count": 56,
      "outputs": [
        {
          "output_type": "execute_result",
          "data": {
            "text/plain": [
              "[('apple', 150), ('banana', 200), ('grape', 100), ('orange', 300)]"
            ]
          },
          "metadata": {},
          "execution_count": 56
        }
      ]
    },
    {
      "cell_type": "code",
      "source": [
        "# SortBy\n",
        "# List of student names and scores\n",
        "student_scores = [(\"John\", 88), (\"Alice\", 95), (\"Bob\", 78), (\"Diana\", 85)]\n",
        "student_scores_rdd = sc.parallelize(student_scores)\n",
        "# Sort by score in descending order\n",
        "sorted_scores = student_scores_rdd.sortBy(lambda x: x[1], ascending=False)\n",
        "sorted_scores.collect()"
      ],
      "metadata": {
        "colab": {
          "base_uri": "https://localhost:8080/"
        },
        "id": "f01ZG6aufZMI",
        "outputId": "67d57c7f-2403-4a64-fa62-2c588fca8e20"
      },
      "execution_count": 58,
      "outputs": [
        {
          "output_type": "execute_result",
          "data": {
            "text/plain": [
              "[('Alice', 95), ('John', 88), ('Diana', 85), ('Bob', 78)]"
            ]
          },
          "metadata": {},
          "execution_count": 58
        }
      ]
    },
    {
      "cell_type": "code",
      "source": [
        "# List of words\n",
        "words = [\"banana\", \"apple\", \"grape\", \"pineapple\", \"orange\"]\n",
        "words_rdd = sc.parallelize(words)\n",
        "# Sort by length in ascending order\n",
        "sorted_words = words_rdd.sortBy(lambda x: len(x), ascending=True)\n",
        "sorted_words.collect()"
      ],
      "metadata": {
        "colab": {
          "base_uri": "https://localhost:8080/"
        },
        "id": "5w9OBLErfzy6",
        "outputId": "0025d05b-1323-4f61-a87c-0563b9d37936"
      },
      "execution_count": 61,
      "outputs": [
        {
          "output_type": "execute_result",
          "data": {
            "text/plain": [
              "['apple', 'grape', 'banana', 'orange', 'pineapple']"
            ]
          },
          "metadata": {},
          "execution_count": 61
        }
      ]
    }
  ]
}