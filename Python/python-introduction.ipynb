{
 "cells": [
  {
   "cell_type": "markdown",
   "id": "82c4dfa1",
   "metadata": {},
   "source": [
    "--------------- Python Basics - Print ---------------"
   ]
  },
  {
   "cell_type": "code",
   "execution_count": 1,
   "id": "7edf9114",
   "metadata": {},
   "outputs": [
    {
     "name": "stdout",
     "output_type": "stream",
     "text": [
      "Hello Pyhon World!\n"
     ]
    }
   ],
   "source": [
    "print(\"Hello Pyhon World!\")"
   ]
  },
  {
   "cell_type": "markdown",
   "id": "2762d1fd",
   "metadata": {},
   "source": [
    "--------------- Different ways to use print function ---------------"
   ]
  },
  {
   "cell_type": "code",
   "execution_count": null,
   "id": "c3890de7",
   "metadata": {},
   "outputs": [
    {
     "name": "stdout",
     "output_type": "stream",
     "text": [
      "The value of a is: 5\n",
      "The value of a is: 5\n",
      "The value of a is: 5\n",
      "The value of a is: 5\n",
      "The value of a is: 5\n"
     ]
    }
   ],
   "source": [
    "# This is a simple Python script that prints a message to the console.\n",
    "# It serves as a basic example of how to write and run a Python script.\n",
    "\n",
    "a = 5\n",
    "print(\"The value of a is:\", a) # Basic print statement\n",
    "print(f\"The value of a is: {a}\")  # Using f-string for formatted output\n",
    "print(\"The value of a is: {}\".format(a))  # Using format method for formatted output\n",
    "print(\"The value of a is: %d\" % a)  # Using old-style formatting\n",
    "print(\"The value of a is: {0}\".format(a))  # Using positional formatting\n",
    "\n",
    "# The script demonstrates different ways to format strings in Python.\n",
    "# It also includes a comment explaining the purpose of the script."
   ]
  },
  {
   "cell_type": "markdown",
   "id": "ce046c76",
   "metadata": {},
   "source": [
    "--------------- Comments in Python ---------------"
   ]
  },
  {
   "cell_type": "code",
   "execution_count": null,
   "id": "abd1dcb2",
   "metadata": {},
   "outputs": [
    {
     "name": "stdout",
     "output_type": "stream",
     "text": [
      "The value of a is now: 10\n"
     ]
    }
   ],
   "source": [
    "#Comments in Python start with a hash (#) symbol.\n",
    "# This script can be run in any Python environment, such as a terminal or an IDE.\n",
    "\n",
    "a = 10\n",
    "print(\"The value of a is now:\", a)  # This will print the updated value of a\n",
    "\n",
    "# Above code with # symbols are comments and will not be executed.\n",
    "# Comments can be used to explain code, making it easier to understand."
   ]
  },
  {
   "cell_type": "code",
   "execution_count": 11,
   "id": "31dcdc25",
   "metadata": {},
   "outputs": [
    {
     "name": "stdout",
     "output_type": "stream",
     "text": [
      "Hello User! Welcome to Python.\n",
      "This is a simple Python code to demonstrate single and multi-line comments.\n"
     ]
    }
   ],
   "source": [
    "#Different ways to use comments:\n",
    "# Single-line comment\n",
    "# This is a single-line comment explaining the next line of code\n",
    "\n",
    "'''\n",
    "This is a multiline comment\n",
    "using triple single quotes.\n",
    "It can span multiple lines.\n",
    "'''\n",
    "print(\"Hello User! Welcome to Python.\")\n",
    "\"\"\"\n",
    "This is another example of a multiline comment\n",
    "using triple double quotes.\n",
    "\"\"\"\n",
    "print(\"This is a simple Python code to demonstrate single and multi-line comments.\")"
   ]
  },
  {
   "cell_type": "markdown",
   "id": "300ebba7",
   "metadata": {},
   "source": [
    "--------------- Python Version ---------------"
   ]
  },
  {
   "cell_type": "code",
   "execution_count": 14,
   "id": "20ac251e",
   "metadata": {},
   "outputs": [
    {
     "name": "stdout",
     "output_type": "stream",
     "text": [
      "Python version: 3.12.4 | packaged by Anaconda, Inc. | (main, Jun 18 2024, 15:03:56) [MSC v.1929 64 bit (AMD64)]\n",
      " \n",
      "Version info: sys.version_info(major=3, minor=12, micro=4, releaselevel='final', serial=0)\n"
     ]
    }
   ],
   "source": [
    "import sys\n",
    "\n",
    "print(\"Python version:\", sys.version)\n",
    "print(\" \")\n",
    "print(\"Version info:\", sys.version_info)"
   ]
  }
 ],
 "metadata": {
  "kernelspec": {
   "display_name": "base",
   "language": "python",
   "name": "python3"
  },
  "language_info": {
   "codemirror_mode": {
    "name": "ipython",
    "version": 3
   },
   "file_extension": ".py",
   "mimetype": "text/x-python",
   "name": "python",
   "nbconvert_exporter": "python",
   "pygments_lexer": "ipython3",
   "version": "3.12.4"
  }
 },
 "nbformat": 4,
 "nbformat_minor": 5
}
