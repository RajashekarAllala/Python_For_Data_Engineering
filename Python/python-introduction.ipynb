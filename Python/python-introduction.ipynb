{
 "cells": [
  {
   "cell_type": "markdown",
   "id": "82c4dfa1",
   "metadata": {},
   "source": [
    "Python Basics - Print"
   ]
  },
  {
   "cell_type": "code",
   "execution_count": 1,
   "id": "7edf9114",
   "metadata": {},
   "outputs": [
    {
     "name": "stdout",
     "output_type": "stream",
     "text": [
      "Hello Pyhon World!\n"
     ]
    }
   ],
   "source": [
    "print(\"Hello Pyhon World!\")"
   ]
  },
  {
   "cell_type": "code",
   "execution_count": null,
   "id": "c3890de7",
   "metadata": {},
   "outputs": [],
   "source": []
  },
  {
   "cell_type": "code",
   "execution_count": null,
   "id": "abd1dcb2",
   "metadata": {},
   "outputs": [],
   "source": []
  }
 ],
 "metadata": {
  "kernelspec": {
   "display_name": "base",
   "language": "python",
   "name": "python3"
  },
  "language_info": {
   "codemirror_mode": {
    "name": "ipython",
    "version": 3
   },
   "file_extension": ".py",
   "mimetype": "text/x-python",
   "name": "python",
   "nbconvert_exporter": "python",
   "pygments_lexer": "ipython3",
   "version": "3.12.4"
  }
 },
 "nbformat": 4,
 "nbformat_minor": 5
}
