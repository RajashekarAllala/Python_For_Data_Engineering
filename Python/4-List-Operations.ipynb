{
 "cells": [
  {
   "cell_type": "markdown",
   "id": "04d3d698",
   "metadata": {},
   "source": [
    "<h4>List Operations</h4>"
   ]
  },
  {
   "cell_type": "markdown",
   "id": "ef95ac4d",
   "metadata": {},
   "source": [
    "* In Python, a list is a built-in dynamic sized array (automatically grows and shrinks). We can store all types of items (including another list) in a list.\n",
    "\n",
    "* Can contain duplicate items.\n",
    "* Mutable : We can modify, replace or delete the items.\n",
    "* Ordered : Maintains the order of elements based on how they are added.\n",
    "* Items can be accessed directly using their position (index), starting from 0.\n",
    "* May contain mixed type of items, this is possible because a list mainly stores references at contiguous locations and actual items maybe stored at different locations."
   ]
  },
  {
   "cell_type": "code",
   "execution_count": 7,
   "id": "7b829618",
   "metadata": {},
   "outputs": [
    {
     "name": "stdout",
     "output_type": "stream",
     "text": [
      "[10, 20, 'GfG', 40, True]\n"
     ]
    }
   ],
   "source": [
    "# Creating a Python list with different data types\n",
    "a = [10, 20, \"GfG\", 40, True]\n",
    "print(a)"
   ]
  },
  {
   "cell_type": "code",
   "execution_count": null,
   "id": "83b7ed25",
   "metadata": {},
   "outputs": [
    {
     "name": "stdout",
     "output_type": "stream",
     "text": [
      "10\n",
      "20\n",
      "GfG\n",
      "40\n",
      "True\n",
      "<class 'str'>\n",
      "<class 'bool'>\n"
     ]
    }
   ],
   "source": [
    "# Accessing elements using indexing\n",
    "print(a[0])  # 10\n",
    "print(a[1])  # 20\n",
    "print(a[2])  # \"GfG\"\n",
    "print(a[3])  # 40\n",
    "print(a[4])  # True"
   ]
  },
  {
   "cell_type": "code",
   "execution_count": 9,
   "id": "07e6916a",
   "metadata": {},
   "outputs": [
    {
     "name": "stdout",
     "output_type": "stream",
     "text": [
      "<class 'str'>\n",
      "<class 'bool'>\n"
     ]
    }
   ],
   "source": [
    "# Checking types of elements\n",
    "print(type(a[2]))  # str\n",
    "print(type(a[4]))  # bool"
   ]
  },
  {
   "cell_type": "markdown",
   "id": "c336320a",
   "metadata": {},
   "source": [
    "* <b>Creating a List Using Square Brackets</b>"
   ]
  },
  {
   "cell_type": "code",
   "execution_count": 11,
   "id": "4b1efefc",
   "metadata": {},
   "outputs": [
    {
     "name": "stdout",
     "output_type": "stream",
     "text": [
      "List a: [1, 2, 3, 4, 5]\n",
      "List b: ['apple', 'banana', 'cherry']\n",
      "List c: [1, 'hello', 3.14, True]\n"
     ]
    }
   ],
   "source": [
    "# List of integers\n",
    "a = [1, 2, 3, 4, 5]\n",
    "\n",
    "# List of strings\n",
    "b = ['apple', 'banana', 'cherry']\n",
    "\n",
    "# Mixed data types\n",
    "c = [1, 'hello', 3.14, True]\n",
    "\n",
    "print(f\"List a: {a}\")\n",
    "print(f\"List b: {b}\")\n",
    "print(f\"List c: {c}\")"
   ]
  },
  {
   "cell_type": "markdown",
   "id": "f780e3f5",
   "metadata": {},
   "source": [
    "* Using list() Constructor"
   ]
  },
  {
   "cell_type": "code",
   "execution_count": 12,
   "id": "0b2a7857",
   "metadata": {},
   "outputs": [
    {
     "name": "stdout",
     "output_type": "stream",
     "text": [
      "[1, 2, 3, 'apple', 4.5]\n"
     ]
    }
   ],
   "source": [
    "# From a tuple\n",
    "a = list((1, 2, 3, 'apple', 4.5))  \n",
    "print(a)"
   ]
  },
  {
   "cell_type": "code",
   "execution_count": 17,
   "id": "97eace87",
   "metadata": {},
   "outputs": [
    {
     "name": "stdout",
     "output_type": "stream",
     "text": [
      "List of 2's: [2, 2, 2, 2, 2]\n",
      "List of 0's: [0, 0, 0, 0, 0, 0, 0]\n"
     ]
    }
   ],
   "source": [
    "#Creating List with Repeated Elements\n",
    "\n",
    "# Create a list [2, 2, 2, 2, 2]\n",
    "a = [2] * 5\n",
    "\n",
    "# Create a list [0, 0, 0, 0, 0, 0, 0]\n",
    "b = [0] * 7\n",
    "\n",
    "print(f\"List of 2's: {a}\")\n",
    "print(f\"List of 0's: {b}\")"
   ]
  },
  {
   "cell_type": "code",
   "execution_count": 15,
   "id": "81f48765",
   "metadata": {},
   "outputs": [
    {
     "name": "stdout",
     "output_type": "stream",
     "text": [
      "First Element: 10\n",
      "Last Element: 50\n"
     ]
    }
   ],
   "source": [
    "# Accessing List Elements using Index value. Index starts at 0. We can use negative indexing as well\n",
    "# -1 represents the last elements\n",
    "\n",
    "a = [10, 20, 30, 40, 50]\n",
    "\n",
    "# Access first element\n",
    "print(f\"First Element: {a[0]}\")    \n",
    "\n",
    "# Access last element\n",
    "print(f\"Last Element: {a[-1]}\")"
   ]
  }
 ],
 "metadata": {
  "kernelspec": {
   "display_name": "venv",
   "language": "python",
   "name": "python3"
  },
  "language_info": {
   "codemirror_mode": {
    "name": "ipython",
    "version": 3
   },
   "file_extension": ".py",
   "mimetype": "text/x-python",
   "name": "python",
   "nbconvert_exporter": "python",
   "pygments_lexer": "ipython3",
   "version": "3.12.4"
  }
 },
 "nbformat": 4,
 "nbformat_minor": 5
}
