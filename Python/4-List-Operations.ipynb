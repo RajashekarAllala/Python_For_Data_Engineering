{
 "cells": [
  {
   "cell_type": "markdown",
   "id": "04d3d698",
   "metadata": {},
   "source": [
    "<h4>List Operations</h4>"
   ]
  },
  {
   "cell_type": "markdown",
   "id": "ef95ac4d",
   "metadata": {},
   "source": [
    "* In Python, a list is a built-in dynamic sized array (automatically grows and shrinks). We can store all types of items (including another list) in a list.\n",
    "\n",
    "* Can contain duplicate items.\n",
    "* Mutable : We can modify, replace or delete the items.\n",
    "* Ordered : Maintains the order of elements based on how they are added.\n",
    "* Items can be accessed directly using their position (index), starting from 0.\n",
    "* May contain mixed type of items, this is possible because a list mainly stores references at contiguous locations and actual items maybe stored at different locations."
   ]
  },
  {
   "cell_type": "code",
   "execution_count": 7,
   "id": "7b829618",
   "metadata": {},
   "outputs": [
    {
     "name": "stdout",
     "output_type": "stream",
     "text": [
      "[10, 20, 'GfG', 40, True]\n"
     ]
    }
   ],
   "source": [
    "# Creating a Python list with different data types\n",
    "a = [10, 20, \"GfG\", 40, True]\n",
    "print(a)"
   ]
  },
  {
   "cell_type": "code",
   "execution_count": null,
   "id": "83b7ed25",
   "metadata": {},
   "outputs": [
    {
     "name": "stdout",
     "output_type": "stream",
     "text": [
      "10\n",
      "20\n",
      "GfG\n",
      "40\n",
      "True\n",
      "<class 'str'>\n",
      "<class 'bool'>\n"
     ]
    }
   ],
   "source": [
    "# Accessing elements using indexing\n",
    "print(a[0])  # 10\n",
    "print(a[1])  # 20\n",
    "print(a[2])  # \"GfG\"\n",
    "print(a[3])  # 40\n",
    "print(a[4])  # True"
   ]
  },
  {
   "cell_type": "code",
   "execution_count": 9,
   "id": "07e6916a",
   "metadata": {},
   "outputs": [
    {
     "name": "stdout",
     "output_type": "stream",
     "text": [
      "<class 'str'>\n",
      "<class 'bool'>\n"
     ]
    }
   ],
   "source": [
    "# Checking types of elements\n",
    "print(type(a[2]))  # str\n",
    "print(type(a[4]))  # bool"
   ]
  },
  {
   "cell_type": "markdown",
   "id": "c336320a",
   "metadata": {},
   "source": [
    "* <b>Creating a List Using Square Brackets</b>"
   ]
  },
  {
   "cell_type": "code",
   "execution_count": 11,
   "id": "4b1efefc",
   "metadata": {},
   "outputs": [
    {
     "name": "stdout",
     "output_type": "stream",
     "text": [
      "List a: [1, 2, 3, 4, 5]\n",
      "List b: ['apple', 'banana', 'cherry']\n",
      "List c: [1, 'hello', 3.14, True]\n"
     ]
    }
   ],
   "source": [
    "# List of integers\n",
    "a = [1, 2, 3, 4, 5]\n",
    "\n",
    "# List of strings\n",
    "b = ['apple', 'banana', 'cherry']\n",
    "\n",
    "# Mixed data types\n",
    "c = [1, 'hello', 3.14, True]\n",
    "\n",
    "print(f\"List a: {a}\")\n",
    "print(f\"List b: {b}\")\n",
    "print(f\"List c: {c}\")"
   ]
  },
  {
   "cell_type": "markdown",
   "id": "f780e3f5",
   "metadata": {},
   "source": [
    "* Using list() Constructor"
   ]
  },
  {
   "cell_type": "code",
   "execution_count": 12,
   "id": "0b2a7857",
   "metadata": {},
   "outputs": [
    {
     "name": "stdout",
     "output_type": "stream",
     "text": [
      "[1, 2, 3, 'apple', 4.5]\n"
     ]
    }
   ],
   "source": [
    "# From a tuple\n",
    "a = list((1, 2, 3, 'apple', 4.5))  \n",
    "print(a)"
   ]
  },
  {
   "cell_type": "code",
   "execution_count": 17,
   "id": "97eace87",
   "metadata": {},
   "outputs": [
    {
     "name": "stdout",
     "output_type": "stream",
     "text": [
      "List of 2's: [2, 2, 2, 2, 2]\n",
      "List of 0's: [0, 0, 0, 0, 0, 0, 0]\n"
     ]
    }
   ],
   "source": [
    "#Creating List with Repeated Elements\n",
    "\n",
    "# Create a list [2, 2, 2, 2, 2]\n",
    "a = [2] * 5\n",
    "\n",
    "# Create a list [0, 0, 0, 0, 0, 0, 0]\n",
    "b = [0] * 7\n",
    "\n",
    "print(f\"List of 2's: {a}\")\n",
    "print(f\"List of 0's: {b}\")"
   ]
  },
  {
   "cell_type": "code",
   "execution_count": 15,
   "id": "81f48765",
   "metadata": {},
   "outputs": [
    {
     "name": "stdout",
     "output_type": "stream",
     "text": [
      "First Element: 10\n",
      "Last Element: 50\n"
     ]
    }
   ],
   "source": [
    "# Accessing List Elements using Index value. Index starts at 0. We can use negative indexing as well\n",
    "# -1 represents the last elements\n",
    "\n",
    "a = [10, 20, 30, 40, 50]\n",
    "\n",
    "# Access first element\n",
    "print(f\"First Element: {a[0]}\")    \n",
    "\n",
    "# Access last element\n",
    "print(f\"Last Element: {a[-1]}\")"
   ]
  },
  {
   "cell_type": "markdown",
   "id": "1db16ba5",
   "metadata": {},
   "source": [
    "<b>Adding Elements into List:</b><br>\n",
    "\n",
    "* append(): Adds an element at the end of the list.\n",
    "* extend(): Adds multiple elements to the end of the list.\n",
    "* insert(): Adds an element at a specific position (i.e. index)."
   ]
  },
  {
   "cell_type": "code",
   "execution_count": 1,
   "id": "ff59dc0c",
   "metadata": {},
   "outputs": [
    {
     "name": "stdout",
     "output_type": "stream",
     "text": [
      "After append(10): [10]\n",
      "After insert(0, 5): [5, 10]\n",
      "After extend([15, 20, 25]): [5, 10, 15, 20, 25]\n"
     ]
    }
   ],
   "source": [
    "# Initialize an empty list\n",
    "a = []\n",
    "\n",
    "# Adding 10 to end of list\n",
    "a.append(10)  \n",
    "print(\"After append(10):\", a)  \n",
    "\n",
    "# Inserting 5 at index 0\n",
    "a.insert(0, 5)\n",
    "print(\"After insert(0, 5):\", a) \n",
    "\n",
    "# Adding multiple elements  [15, 20, 25] at the end\n",
    "a.extend([15, 20, 25])  \n",
    "print(\"After extend([15, 20, 25]):\", a)"
   ]
  },
  {
   "cell_type": "markdown",
   "id": "214655c1",
   "metadata": {},
   "source": [
    "* Updating Elements into List"
   ]
  },
  {
   "cell_type": "code",
   "execution_count": 3,
   "id": "6e494e7b",
   "metadata": {},
   "outputs": [
    {
     "name": "stdout",
     "output_type": "stream",
     "text": [
      "List after updating the value [10, 25, 30, 40, 50]\n"
     ]
    }
   ],
   "source": [
    "a = [10, 20, 30, 40, 50]\n",
    "\n",
    "# Change the second element\n",
    "a[1] = 25 \n",
    "print(\"List after updating the value\", a)"
   ]
  },
  {
   "cell_type": "markdown",
   "id": "644131bb",
   "metadata": {},
   "source": [
    "<b>Removing Elements from List:</b>\n",
    "* remove(): Removes the first occurrence of an element.\n",
    "* pop(): Removes the element at a specific index or the last element if no index is specified.\n",
    "* del statement: Deletes an element at a specified index."
   ]
  },
  {
   "cell_type": "code",
   "execution_count": 8,
   "id": "cbc4128d",
   "metadata": {},
   "outputs": [
    {
     "name": "stdout",
     "output_type": "stream",
     "text": [
      "After remove(30): [10, 20, 40, 50, 60]\n",
      "Popped element using index: 20\n",
      "After pop(1): [10, 40, 50, 60]\n",
      "Popped element using pop(): 60\n",
      "After pop(): [10, 40, 50]\n",
      "After del a[0]: [40, 50]\n"
     ]
    }
   ],
   "source": [
    "a = [10, 20, 30, 40, 50, 60]\n",
    "\n",
    "# Removes the first occurrence of 30\n",
    "a.remove(30)  \n",
    "print(\"After remove(30):\", a)\n",
    "\n",
    "# Removes the element at index 1 (20)\n",
    "popped_val = a.pop(1)  \n",
    "print(\"Popped element using index:\", popped_val)\n",
    "print(\"After pop(1):\", a)\n",
    "\n",
    "popped_val1 = a.pop()\n",
    "print(\"Popped element using pop():\", popped_val1)\n",
    "print(\"After pop():\", a)\n",
    "\n",
    "# Deletes the first element (10)\n",
    "del a[0]  \n",
    "print(\"After del a[0]:\", a)"
   ]
  },
  {
   "cell_type": "markdown",
   "id": "56812fd1",
   "metadata": {},
   "source": [
    "* <b>Iterating Over Lists using for Loop:</b>"
   ]
  },
  {
   "cell_type": "code",
   "execution_count": 9,
   "id": "ee6479b1",
   "metadata": {},
   "outputs": [
    {
     "name": "stdout",
     "output_type": "stream",
     "text": [
      "apple\n",
      "banana\n",
      "cherry\n"
     ]
    }
   ],
   "source": [
    "a = ['apple', 'banana', 'cherry']\n",
    "\n",
    "# Iterating over the list\n",
    "for item in a:\n",
    "    print(item)"
   ]
  },
  {
   "cell_type": "markdown",
   "id": "d51e6aeb",
   "metadata": {},
   "source": [
    "* <b>Nested Lists in Python:</b>"
   ]
  },
  {
   "cell_type": "code",
   "execution_count": 13,
   "id": "899eeb43",
   "metadata": {},
   "outputs": [
    {
     "name": "stdout",
     "output_type": "stream",
     "text": [
      "Defined Matrix\n",
      "1 2 3 \n",
      "4 5 6 \n",
      "7 8 9 \n",
      "Row 2 Column 3 Value: 6\n"
     ]
    }
   ],
   "source": [
    "matrix = [\n",
    "    [1, 2, 3],\n",
    "    [4, 5, 6],\n",
    "    [7, 8, 9]\n",
    "]\n",
    "\n",
    "# Accessing and Printing the Entire Matrix\n",
    "print(\"Defined Matrix\")\n",
    "for i in range(len(matrix)) : \n",
    "    for j in range(len(matrix[i])) : \n",
    "        print(matrix[i][j], end=\" \")\n",
    "    print()\n",
    "\n",
    "# Access element at row 2, column 3\n",
    "print(\"Row 2 Column 3 Value:\", matrix[1][2])"
   ]
  }
 ],
 "metadata": {
  "kernelspec": {
   "display_name": "Python 3",
   "language": "python",
   "name": "python3"
  },
  "language_info": {
   "codemirror_mode": {
    "name": "ipython",
    "version": 3
   },
   "file_extension": ".py",
   "mimetype": "text/x-python",
   "name": "python",
   "nbconvert_exporter": "python",
   "pygments_lexer": "ipython3",
   "version": "3.10.11"
  }
 },
 "nbformat": 4,
 "nbformat_minor": 5
}
