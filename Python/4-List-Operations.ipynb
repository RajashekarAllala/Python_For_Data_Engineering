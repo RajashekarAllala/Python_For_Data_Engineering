{
 "cells": [
  {
   "cell_type": "markdown",
   "id": "04d3d698",
   "metadata": {},
   "source": [
    "<h4>List Operations</h4>"
   ]
  },
  {
   "cell_type": "markdown",
   "id": "ef95ac4d",
   "metadata": {},
   "source": [
    "* In Python, a list is a built-in dynamic sized array (automatically grows and shrinks). We can store all types of items (including another list) in a list.\n",
    "\n",
    "* Can contain duplicate items.\n",
    "* Mutable : We can modify, replace or delete the items.\n",
    "* Ordered : Maintains the order of elements based on how they are added.\n",
    "* Items can be accessed directly using their position (index), starting from 0.\n",
    "* May contain mixed type of items, this is possible because a list mainly stores references at contiguous locations and actual items maybe stored at different locations."
   ]
  },
  {
   "cell_type": "code",
   "execution_count": 38,
   "id": "7b829618",
   "metadata": {},
   "outputs": [
    {
     "name": "stdout",
     "output_type": "stream",
     "text": [
      "List a: [10, 20, 'python', 40, True]\n"
     ]
    }
   ],
   "source": [
    "# Creating a Python list with different data types\n",
    "a = [10, 20, \"python\", 40, True]\n",
    "print(\"List a:\", a)"
   ]
  },
  {
   "cell_type": "markdown",
   "id": "b3eb06b2",
   "metadata": {},
   "source": [
    "* List Length"
   ]
  },
  {
   "cell_type": "code",
   "execution_count": 37,
   "id": "dbfdcffe",
   "metadata": {},
   "outputs": [
    {
     "name": "stdout",
     "output_type": "stream",
     "text": [
      "Number of items in the List: 3\n"
     ]
    }
   ],
   "source": [
    "fruits = [\"apple\", \"banana\", \"cherry\"]\n",
    "print(\"Number of items in the List:\", len(fruits))"
   ]
  },
  {
   "cell_type": "code",
   "execution_count": 39,
   "id": "40dc4f27",
   "metadata": {},
   "outputs": [
    {
     "name": "stdout",
     "output_type": "stream",
     "text": [
      "List1: ['apple', 'banana', 'cherry']\n",
      "List2: [1, 5, 7, 9, 3]\n",
      "List3: [True, False, False]\n",
      "List4: ['abc', 34, True, 40, 'male']\n",
      "List1 Data Type: <class 'list'>\n",
      "List2 Data Type: <class 'list'>\n",
      "List3 Data Type: <class 'list'>\n",
      "List4 Data Type: <class 'list'>\n"
     ]
    }
   ],
   "source": [
    "# List items can be of any data type\n",
    "list1 = [\"apple\", \"banana\", \"cherry\"]\n",
    "list2 = [1, 5, 7, 9, 3]\n",
    "list3 = [True, False, False]\n",
    "\n",
    "# A list can contain different data types\n",
    "list4 = [\"abc\", 34, True, 40, \"male\"]\n",
    "\n",
    "print(\"List1:\", list1)\n",
    "print(\"List2:\", list2)\n",
    "print(\"List3:\", list3)\n",
    "print(\"List4:\", list4)\n",
    "\n",
    "# Irrespective of the items data types in a list, the data type of the list is always a list\n",
    "print(\"List1 Data Type:\", type(list1))\n",
    "print(\"List2 Data Type:\", type(list2))\n",
    "print(\"List3 Data Type:\", type(list3))\n",
    "print(\"List4 Data Type:\", type(list4))"
   ]
  },
  {
   "cell_type": "code",
   "execution_count": 21,
   "id": "83b7ed25",
   "metadata": {},
   "outputs": [
    {
     "name": "stdout",
     "output_type": "stream",
     "text": [
      "10\n",
      "20\n",
      "python\n",
      "40\n",
      "True\n"
     ]
    }
   ],
   "source": [
    "# Accessing elements using indexing\n",
    "print(a[0])  # 10\n",
    "print(a[1])  # 20\n",
    "print(a[2])  # \"GfG\"\n",
    "print(a[3])  # 40\n",
    "print(a[4])  # True"
   ]
  },
  {
   "cell_type": "code",
   "execution_count": 22,
   "id": "07e6916a",
   "metadata": {},
   "outputs": [
    {
     "name": "stdout",
     "output_type": "stream",
     "text": [
      "<class 'str'>\n",
      "<class 'bool'>\n"
     ]
    }
   ],
   "source": [
    "# Checking types of elements\n",
    "print(type(a[2]))  # str\n",
    "print(type(a[4]))  # bool"
   ]
  },
  {
   "cell_type": "markdown",
   "id": "c336320a",
   "metadata": {},
   "source": [
    "* <b>Creating a List Using Square Brackets</b>"
   ]
  },
  {
   "cell_type": "code",
   "execution_count": 23,
   "id": "4b1efefc",
   "metadata": {},
   "outputs": [
    {
     "name": "stdout",
     "output_type": "stream",
     "text": [
      "List a: [1, 2, 3, 4, 5]\n",
      "List b: ['apple', 'banana', 'cherry']\n",
      "List c: [1, 'hello', 3.14, True]\n"
     ]
    }
   ],
   "source": [
    "# List of integers\n",
    "a = [1, 2, 3, 4, 5]\n",
    "\n",
    "# List of strings\n",
    "b = ['apple', 'banana', 'cherry']\n",
    "\n",
    "# Mixed data types\n",
    "c = [1, 'hello', 3.14, True]\n",
    "\n",
    "print(f\"List a: {a}\")\n",
    "print(f\"List b: {b}\")\n",
    "print(f\"List c: {c}\")"
   ]
  },
  {
   "cell_type": "markdown",
   "id": "f780e3f5",
   "metadata": {},
   "source": [
    "* Using list() Constructor"
   ]
  },
  {
   "cell_type": "code",
   "execution_count": 40,
   "id": "0b2a7857",
   "metadata": {},
   "outputs": [
    {
     "name": "stdout",
     "output_type": "stream",
     "text": [
      "[1, 2, 3, 'apple', 4.5]\n",
      "['apple', 'banana', 'cherry']\n"
     ]
    }
   ],
   "source": [
    "# From a tuple\n",
    "a = list((1, 2, 3, 'apple', 4.5))  \n",
    "print(a)\n",
    "\n",
    "fruits = list((\"apple\", \"banana\", \"cherry\")) # note the double round-brackets\n",
    "print(fruits)"
   ]
  },
  {
   "cell_type": "code",
   "execution_count": 25,
   "id": "97eace87",
   "metadata": {},
   "outputs": [
    {
     "name": "stdout",
     "output_type": "stream",
     "text": [
      "List of 2's: [2, 2, 2, 2, 2]\n",
      "List of 0's: [0, 0, 0, 0, 0, 0, 0]\n"
     ]
    }
   ],
   "source": [
    "#Creating List with Repeated Elements\n",
    "\n",
    "# Create a list [2, 2, 2, 2, 2]\n",
    "a = [2] * 5\n",
    "\n",
    "# Create a list [0, 0, 0, 0, 0, 0, 0]\n",
    "b = [0] * 7\n",
    "\n",
    "print(f\"List of 2's: {a}\")\n",
    "print(f\"List of 0's: {b}\")"
   ]
  },
  {
   "cell_type": "code",
   "execution_count": 47,
   "id": "81f48765",
   "metadata": {},
   "outputs": [
    {
     "name": "stdout",
     "output_type": "stream",
     "text": [
      "First Element: 10\n",
      "Last Element: 50\n",
      "Starting Index 2 to 5 (index 5 is excluded): [30, 40, 50]\n",
      "Starting Index to 4: [10, 20, 30, 40]\n",
      "From index 2 to end: [30, 40, 50]\n",
      "Using Negative Indexing: [20, 30, 40]\n"
     ]
    }
   ],
   "source": [
    "# Accessing List Elements using Index value. Index starts at 0. We can use negative indexing as well\n",
    "# -1 represents the last elements\n",
    "\n",
    "a = [10, 20, 30, 40, 50]\n",
    "\n",
    "# Access first element\n",
    "print(f\"First Element: {a[0]}\")    \n",
    "\n",
    "# Access last element\n",
    "print(f\"Last Element: {a[-1]}\")\n",
    "\n",
    "# Accesing the list elements with slicing\n",
    "print(\"Starting Index 2 to 5 (index 5 is excluded):\", a[2:5])\n",
    "\n",
    "# Accessing the list from starting to specific index\n",
    "print(\"Starting Index to 4:\", a[:4]) \n",
    "\n",
    "# Accessing the list values from specific index to end\n",
    "print(\"From index 2 to end:\", a[2:])\n",
    "\n",
    "# Using Negative Indexing\n",
    "print(\"Using Negative Indexing:\", a[-4:-1])\n"
   ]
  },
  {
   "cell_type": "code",
   "execution_count": 49,
   "id": "31a0b352",
   "metadata": {},
   "outputs": [
    {
     "name": "stdout",
     "output_type": "stream",
     "text": [
      "5 is not in the list.\n",
      "30 is in the list.\n"
     ]
    }
   ],
   "source": [
    "# Check if Item Exists\n",
    "if 5 in a:\n",
    "    print(\"5 is in the list.\")\n",
    "else:\n",
    "    print(\"5 is not in the list.\")\n",
    "\n",
    "if 30 in a:\n",
    "    print(\"30 is in the list.\")\n",
    "else:\n",
    "    print(\"30 is not in the list.\")"
   ]
  },
  {
   "cell_type": "markdown",
   "id": "1db16ba5",
   "metadata": {},
   "source": [
    "<b>Adding Elements into List:</b><br>\n",
    "\n",
    "* append(): Adds an element at the end of the list.\n",
    "* extend(): Adds multiple elements to the end of the list.\n",
    "* insert(): Adds an element at a specific position (i.e. index)."
   ]
  },
  {
   "cell_type": "code",
   "execution_count": 64,
   "id": "ff59dc0c",
   "metadata": {},
   "outputs": [
    {
     "name": "stdout",
     "output_type": "stream",
     "text": [
      "After append(10): [10]\n",
      "After insert(0, 5): [5, 10]\n",
      "After extend([15, 20, 25]): [5, 10, 15, 20, 25]\n",
      "Fruits List Before Extend: ['apple', 'banana', 'cherry']\n",
      "Fruits List After Extend: ['apple', 'banana', 'cherry', 'mango', 'pineapple', 'papaya']\n",
      "Fruits List Before Extend: ['apple', 'banana', 'cherry']\n",
      "Fruits List After Extend: ['apple', 'banana', 'cherry', 'kiwi', 'orange']\n"
     ]
    }
   ],
   "source": [
    "# Initialize an empty list\n",
    "a = []\n",
    "\n",
    "# Adding 10 to end of list\n",
    "a.append(10)  \n",
    "print(\"After append(10):\", a)  \n",
    "\n",
    "# Inserting 5 at index 0\n",
    "a.insert(0, 5)\n",
    "print(\"After insert(0, 5):\", a) \n",
    "\n",
    "# Adding multiple elements  [15, 20, 25] at the end\n",
    "a.extend([15, 20, 25])  \n",
    "print(\"After extend([15, 20, 25]):\", a)\n",
    "\n",
    "fruits1 = [\"apple\", \"banana\", \"cherry\"]\n",
    "print(\"Fruits List Before Extend:\", fruits1)\n",
    "fruits2 = [\"mango\", \"pineapple\", \"papaya\"]\n",
    "fruits1.extend(fruits2)\n",
    "print(\"Fruits List After Extend:\", fruits1)\n",
    "\n",
    "# The extend() method does not have to append lists, you can add any iterable object (tuples, sets, dictionaries etc.).\n",
    "fruits1 = [\"apple\", \"banana\", \"cherry\"]\n",
    "print(\"Fruits List Before Extend:\", fruits1)\n",
    "fruits2 = (\"kiwi\", \"orange\") # This is a tuple\n",
    "fruits1.extend(fruits2)\n",
    "print(\"Fruits List After Extend:\", fruits1)"
   ]
  },
  {
   "cell_type": "markdown",
   "id": "214655c1",
   "metadata": {},
   "source": [
    "* Updating Elements into List"
   ]
  },
  {
   "cell_type": "code",
   "execution_count": 60,
   "id": "6e494e7b",
   "metadata": {},
   "outputs": [
    {
     "name": "stdout",
     "output_type": "stream",
     "text": [
      "List after updating the value [10, 25, 30, 40, 50]\n",
      "List after updating the range of values: [10, 'apple', '3.6', 40, 50]\n",
      "List after updating more items: [10, 'apple', 'banana', 'grapes', 40, 50]\n",
      "With less items to insert: ['apple', 'watermelon']\n"
     ]
    }
   ],
   "source": [
    "a = [10, 20, 30, 40, 50]\n",
    "\n",
    "# Change the second element\n",
    "a[1] = 25 \n",
    "print(\"List after updating the value\", a)\n",
    "\n",
    "# Updating range of items\n",
    "a[1:3] = [\"apple\", \"3.6\"]\n",
    "print(\"List after updating the range of values:\", a)\n",
    "\n",
    "# If you insert more items than you replace, the new items will be inserted where you specified, and the remaining items will move accordingly\n",
    "a[2:3] = [\"banana\", \"grapes\"]\n",
    "print(\"List after updating more items:\", a)\n",
    "\n",
    "# If you insert less items than you replace, the new items will be inserted where you specified, and the remaining items will move accordingly\n",
    "fruits = [\"apple\", \"banana\", \"cherry\"]\n",
    "fruits[1:3] = [\"watermelon\"]\n",
    "print(\"With less items to insert:\", fruits)"
   ]
  },
  {
   "cell_type": "markdown",
   "id": "644131bb",
   "metadata": {},
   "source": [
    "<b>Removing Elements from List:</b>\n",
    "* remove(): Removes the first occurrence of an element.\n",
    "* pop(): Removes the element at a specific index or the last element if no index is specified.\n",
    "* del statement: Deletes an element at a specified index."
   ]
  },
  {
   "cell_type": "code",
   "execution_count": 70,
   "id": "cbc4128d",
   "metadata": {},
   "outputs": [
    {
     "name": "stdout",
     "output_type": "stream",
     "text": [
      "After remove(30): [10, 20, 40, 50, 60]\n",
      "Popped element using index: 20\n",
      "After pop(1): [10, 40, 50, 60]\n",
      "Popped element using pop(): 60\n",
      "After pop(): [10, 40, 50]\n",
      "After del a[0]: [40, 50]\n",
      "List before clear: ['apple', 'banana', 'cherry']\n",
      "[]\n"
     ]
    }
   ],
   "source": [
    "a = [10, 20, 30, 40, 50, 60]\n",
    "\n",
    "# Removes the first occurrence of 30\n",
    "a.remove(30)  \n",
    "print(\"After remove(30):\", a)\n",
    "\n",
    "# Removes the element at index 1 (20)\n",
    "popped_val = a.pop(1)  \n",
    "print(\"Popped element using index:\", popped_val)\n",
    "print(\"After pop(1):\", a)\n",
    "\n",
    "popped_val1 = a.pop()\n",
    "print(\"Popped element using pop():\", popped_val1)\n",
    "print(\"After pop():\", a)\n",
    "\n",
    "# Deletes the first element (10)\n",
    "del a[0]  \n",
    "print(\"After del a[0]:\", a)\n",
    "\n",
    "# deleting entire list causes an error \"NameError: name 'a' is not defined\"\n",
    "# Try the code by uncommenting below 2 lines.\n",
    "\n",
    "#del a\n",
    "#print(\"After del a (Entire List):\", a)\n",
    "\n",
    "# The clear() method empties the list. But, it will not delete the list like del\n",
    "fruits = [\"apple\", \"banana\", \"cherry\"]\n",
    "print(\"List before clear:\", fruits)\n",
    "fruits.clear()\n",
    "print(fruits)"
   ]
  },
  {
   "cell_type": "markdown",
   "id": "56812fd1",
   "metadata": {},
   "source": [
    "* <b>Iterating Over Lists using for Loop:</b>"
   ]
  },
  {
   "cell_type": "code",
   "execution_count": 3,
   "id": "ee6479b1",
   "metadata": {},
   "outputs": [
    {
     "name": "stdout",
     "output_type": "stream",
     "text": [
      "printing the list using items:\n",
      "apple\n",
      "banana\n",
      "cherry\n",
      "printing the list using index:\n",
      "apple\n",
      "banana\n",
      "cherry\n",
      "printing the list using List Comprehension:\n",
      "apple\n",
      "banana\n",
      "cherry\n",
      "printing the list using while loop:\n",
      "apple\n",
      "banana\n",
      "cherry\n"
     ]
    }
   ],
   "source": [
    "a = ['apple', 'banana', 'cherry']\n",
    "print(\"printing the list using items:\")\n",
    "# Iterating over the list\n",
    "for item in a:\n",
    "    print(item)\n",
    "\n",
    "# Print all items by referring to their index number\n",
    "print(\"printing the list using index:\")\n",
    "for i in range(len(a)):\n",
    "  print(a[i])\n",
    "\n",
    "# Looping Using List Comprehension\n",
    "print(\"printing the list using List Comprehension:\")\n",
    "fruits = [\"apple\", \"banana\", \"cherry\"]\n",
    "[print(x) for x in fruits]\n",
    "\n",
    "# While loop\n",
    "print(\"printing the list using while loop:\")\n",
    "fruits = [\"apple\", \"banana\", \"cherry\"]\n",
    "i = 0\n",
    "while i < len(fruits):\n",
    "  print(fruits[i])\n",
    "  i = i + 1"
   ]
  },
  {
   "cell_type": "markdown",
   "id": "d51e6aeb",
   "metadata": {},
   "source": [
    "* <b>Nested Lists in Python:</b>"
   ]
  },
  {
   "cell_type": "code",
   "execution_count": 31,
   "id": "899eeb43",
   "metadata": {},
   "outputs": [
    {
     "name": "stdout",
     "output_type": "stream",
     "text": [
      "Defined Matrix\n",
      "1 2 3 \n",
      "4 5 6 \n",
      "7 8 9 \n",
      "Row 2 Column 3 Value: 6\n"
     ]
    }
   ],
   "source": [
    "matrix = [\n",
    "    [1, 2, 3],\n",
    "    [4, 5, 6],\n",
    "    [7, 8, 9]\n",
    "]\n",
    "\n",
    "# Accessing and Printing the Entire Matrix\n",
    "print(\"Defined Matrix\")\n",
    "for i in range(len(matrix)) : \n",
    "    for j in range(len(matrix[i])) : \n",
    "        print(matrix[i][j], end=\" \")\n",
    "    print()\n",
    "\n",
    "# Access element at row 2, column 3\n",
    "print(\"Row 2 Column 3 Value:\", matrix[1][2])"
   ]
  },
  {
   "cell_type": "markdown",
   "id": "c98e836c",
   "metadata": {},
   "source": [
    "* List Comprehension in Python: A concise way to create lists using a single line of code."
   ]
  },
  {
   "cell_type": "code",
   "execution_count": 32,
   "id": "5627ba6c",
   "metadata": {},
   "outputs": [
    {
     "name": "stdout",
     "output_type": "stream",
     "text": [
      "[1, 4, 9, 16, 25]\n"
     ]
    }
   ],
   "source": [
    "# Create a list of squares from 1 to 5\n",
    "squares = [x**2 for x in range(1, 6)]\n",
    "print(squares)"
   ]
  },
  {
   "cell_type": "code",
   "execution_count": null,
   "id": "57553048",
   "metadata": {},
   "outputs": [],
   "source": []
  }
 ],
 "metadata": {
  "kernelspec": {
   "display_name": "venv",
   "language": "python",
   "name": "python3"
  },
  "language_info": {
   "codemirror_mode": {
    "name": "ipython",
    "version": 3
   },
   "file_extension": ".py",
   "mimetype": "text/x-python",
   "name": "python",
   "nbconvert_exporter": "python",
   "pygments_lexer": "ipython3",
   "version": "3.12.4"
  }
 },
 "nbformat": 4,
 "nbformat_minor": 5
}
