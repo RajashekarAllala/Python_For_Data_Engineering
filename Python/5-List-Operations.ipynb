{
 "cells": [
  {
   "cell_type": "markdown",
   "id": "04d3d698",
   "metadata": {},
   "source": [
    "<h4>List Operations</h4>"
   ]
  },
  {
   "cell_type": "markdown",
   "id": "ef95ac4d",
   "metadata": {},
   "source": [
    "* In Python, a list is a built-in dynamic sized array (automatically grows and shrinks). We can store all types of items (including another list) in a list.\n",
    "\n",
    "* Can contain duplicate items.\n",
    "* Mutable : We can modify, replace or delete the items.\n",
    "* Ordered : Maintains the order of elements based on how they are added.\n",
    "* Items can be accessed directly using their position (index), starting from 0.\n",
    "* May contain mixed type of items, this is possible because a list mainly stores references at contiguous locations and actual items maybe stored at different locations."
   ]
  },
  {
   "cell_type": "code",
   "execution_count": 38,
   "id": "7b829618",
   "metadata": {},
   "outputs": [
    {
     "name": "stdout",
     "output_type": "stream",
     "text": [
      "List a: [10, 20, 'python', 40, True]\n"
     ]
    }
   ],
   "source": [
    "# Creating a Python list with different data types\n",
    "a = [10, 20, \"python\", 40, True]\n",
    "print(\"List a:\", a)"
   ]
  },
  {
   "cell_type": "markdown",
   "id": "b3eb06b2",
   "metadata": {},
   "source": [
    "* List Length"
   ]
  },
  {
   "cell_type": "code",
   "execution_count": 37,
   "id": "dbfdcffe",
   "metadata": {},
   "outputs": [
    {
     "name": "stdout",
     "output_type": "stream",
     "text": [
      "Number of items in the List: 3\n"
     ]
    }
   ],
   "source": [
    "fruits = [\"apple\", \"banana\", \"cherry\"]\n",
    "print(\"Number of items in the List:\", len(fruits))"
   ]
  },
  {
   "cell_type": "code",
   "execution_count": 39,
   "id": "40dc4f27",
   "metadata": {},
   "outputs": [
    {
     "name": "stdout",
     "output_type": "stream",
     "text": [
      "List1: ['apple', 'banana', 'cherry']\n",
      "List2: [1, 5, 7, 9, 3]\n",
      "List3: [True, False, False]\n",
      "List4: ['abc', 34, True, 40, 'male']\n",
      "List1 Data Type: <class 'list'>\n",
      "List2 Data Type: <class 'list'>\n",
      "List3 Data Type: <class 'list'>\n",
      "List4 Data Type: <class 'list'>\n"
     ]
    }
   ],
   "source": [
    "# List items can be of any data type\n",
    "list1 = [\"apple\", \"banana\", \"cherry\"]\n",
    "list2 = [1, 5, 7, 9, 3]\n",
    "list3 = [True, False, False]\n",
    "\n",
    "# A list can contain different data types\n",
    "list4 = [\"abc\", 34, True, 40, \"male\"]\n",
    "\n",
    "print(\"List1:\", list1)\n",
    "print(\"List2:\", list2)\n",
    "print(\"List3:\", list3)\n",
    "print(\"List4:\", list4)\n",
    "\n",
    "# Irrespective of the items data types in a list, the data type of the list is always a list\n",
    "print(\"List1 Data Type:\", type(list1))\n",
    "print(\"List2 Data Type:\", type(list2))\n",
    "print(\"List3 Data Type:\", type(list3))\n",
    "print(\"List4 Data Type:\", type(list4))"
   ]
  },
  {
   "cell_type": "code",
   "execution_count": 21,
   "id": "83b7ed25",
   "metadata": {},
   "outputs": [
    {
     "name": "stdout",
     "output_type": "stream",
     "text": [
      "10\n",
      "20\n",
      "python\n",
      "40\n",
      "True\n"
     ]
    }
   ],
   "source": [
    "# Accessing elements using indexing\n",
    "print(a[0])  # 10\n",
    "print(a[1])  # 20\n",
    "print(a[2])  # \"GfG\"\n",
    "print(a[3])  # 40\n",
    "print(a[4])  # True"
   ]
  },
  {
   "cell_type": "code",
   "execution_count": 22,
   "id": "07e6916a",
   "metadata": {},
   "outputs": [
    {
     "name": "stdout",
     "output_type": "stream",
     "text": [
      "<class 'str'>\n",
      "<class 'bool'>\n"
     ]
    }
   ],
   "source": [
    "# Checking types of elements\n",
    "print(type(a[2]))  # str\n",
    "print(type(a[4]))  # bool"
   ]
  },
  {
   "cell_type": "markdown",
   "id": "c336320a",
   "metadata": {},
   "source": [
    "* <b>Creating a List Using Square Brackets</b>"
   ]
  },
  {
   "cell_type": "code",
   "execution_count": 23,
   "id": "4b1efefc",
   "metadata": {},
   "outputs": [
    {
     "name": "stdout",
     "output_type": "stream",
     "text": [
      "List a: [1, 2, 3, 4, 5]\n",
      "List b: ['apple', 'banana', 'cherry']\n",
      "List c: [1, 'hello', 3.14, True]\n"
     ]
    }
   ],
   "source": [
    "# List of integers\n",
    "a = [1, 2, 3, 4, 5]\n",
    "\n",
    "# List of strings\n",
    "b = ['apple', 'banana', 'cherry']\n",
    "\n",
    "# Mixed data types\n",
    "c = [1, 'hello', 3.14, True]\n",
    "\n",
    "print(f\"List a: {a}\")\n",
    "print(f\"List b: {b}\")\n",
    "print(f\"List c: {c}\")"
   ]
  },
  {
   "cell_type": "markdown",
   "id": "f780e3f5",
   "metadata": {},
   "source": [
    "* Using list() Constructor"
   ]
  },
  {
   "cell_type": "code",
   "execution_count": 40,
   "id": "0b2a7857",
   "metadata": {},
   "outputs": [
    {
     "name": "stdout",
     "output_type": "stream",
     "text": [
      "[1, 2, 3, 'apple', 4.5]\n",
      "['apple', 'banana', 'cherry']\n"
     ]
    }
   ],
   "source": [
    "# From a tuple\n",
    "a = list((1, 2, 3, 'apple', 4.5))  \n",
    "print(a)\n",
    "\n",
    "fruits = list((\"apple\", \"banana\", \"cherry\")) # note the double round-brackets\n",
    "print(fruits)"
   ]
  },
  {
   "cell_type": "code",
   "execution_count": 25,
   "id": "97eace87",
   "metadata": {},
   "outputs": [
    {
     "name": "stdout",
     "output_type": "stream",
     "text": [
      "List of 2's: [2, 2, 2, 2, 2]\n",
      "List of 0's: [0, 0, 0, 0, 0, 0, 0]\n"
     ]
    }
   ],
   "source": [
    "#Creating List with Repeated Elements\n",
    "\n",
    "# Create a list [2, 2, 2, 2, 2]\n",
    "a = [2] * 5\n",
    "\n",
    "# Create a list [0, 0, 0, 0, 0, 0, 0]\n",
    "b = [0] * 7\n",
    "\n",
    "print(f\"List of 2's: {a}\")\n",
    "print(f\"List of 0's: {b}\")"
   ]
  },
  {
   "cell_type": "code",
   "execution_count": 47,
   "id": "81f48765",
   "metadata": {},
   "outputs": [
    {
     "name": "stdout",
     "output_type": "stream",
     "text": [
      "First Element: 10\n",
      "Last Element: 50\n",
      "Starting Index 2 to 5 (index 5 is excluded): [30, 40, 50]\n",
      "Starting Index to 4: [10, 20, 30, 40]\n",
      "From index 2 to end: [30, 40, 50]\n",
      "Using Negative Indexing: [20, 30, 40]\n"
     ]
    }
   ],
   "source": [
    "# Accessing List Elements using Index value. Index starts at 0. We can use negative indexing as well\n",
    "# -1 represents the last elements\n",
    "\n",
    "a = [10, 20, 30, 40, 50]\n",
    "\n",
    "# Access first element\n",
    "print(f\"First Element: {a[0]}\")    \n",
    "\n",
    "# Access last element\n",
    "print(f\"Last Element: {a[-1]}\")\n",
    "\n",
    "# Accesing the list elements with slicing\n",
    "print(\"Starting Index 2 to 5 (index 5 is excluded):\", a[2:5])\n",
    "\n",
    "# Accessing the list from starting to specific index\n",
    "print(\"Starting Index to 4:\", a[:4]) \n",
    "\n",
    "# Accessing the list values from specific index to end\n",
    "print(\"From index 2 to end:\", a[2:])\n",
    "\n",
    "# Using Negative Indexing\n",
    "print(\"Using Negative Indexing:\", a[-4:-1])\n"
   ]
  },
  {
   "cell_type": "code",
   "execution_count": 49,
   "id": "31a0b352",
   "metadata": {},
   "outputs": [
    {
     "name": "stdout",
     "output_type": "stream",
     "text": [
      "5 is not in the list.\n",
      "30 is in the list.\n"
     ]
    }
   ],
   "source": [
    "# Check if Item Exists\n",
    "if 5 in a:\n",
    "    print(\"5 is in the list.\")\n",
    "else:\n",
    "    print(\"5 is not in the list.\")\n",
    "\n",
    "if 30 in a:\n",
    "    print(\"30 is in the list.\")\n",
    "else:\n",
    "    print(\"30 is not in the list.\")"
   ]
  },
  {
   "cell_type": "markdown",
   "id": "1db16ba5",
   "metadata": {},
   "source": [
    "<b>Adding Elements into List:</b><br>\n",
    "\n",
    "* append(): Adds an element at the end of the list.\n",
    "* extend(): Adds multiple elements to the end of the list.\n",
    "* insert(): Adds an element at a specific position (i.e. index)."
   ]
  },
  {
   "cell_type": "code",
   "execution_count": 64,
   "id": "ff59dc0c",
   "metadata": {},
   "outputs": [
    {
     "name": "stdout",
     "output_type": "stream",
     "text": [
      "After append(10): [10]\n",
      "After insert(0, 5): [5, 10]\n",
      "After extend([15, 20, 25]): [5, 10, 15, 20, 25]\n",
      "Fruits List Before Extend: ['apple', 'banana', 'cherry']\n",
      "Fruits List After Extend: ['apple', 'banana', 'cherry', 'mango', 'pineapple', 'papaya']\n",
      "Fruits List Before Extend: ['apple', 'banana', 'cherry']\n",
      "Fruits List After Extend: ['apple', 'banana', 'cherry', 'kiwi', 'orange']\n"
     ]
    }
   ],
   "source": [
    "# Initialize an empty list\n",
    "a = []\n",
    "\n",
    "# Adding 10 to end of list\n",
    "a.append(10)  \n",
    "print(\"After append(10):\", a)  \n",
    "\n",
    "# Inserting 5 at index 0\n",
    "a.insert(0, 5)\n",
    "print(\"After insert(0, 5):\", a) \n",
    "\n",
    "# Adding multiple elements  [15, 20, 25] at the end\n",
    "a.extend([15, 20, 25])  \n",
    "print(\"After extend([15, 20, 25]):\", a)\n",
    "\n",
    "fruits1 = [\"apple\", \"banana\", \"cherry\"]\n",
    "print(\"Fruits List Before Extend:\", fruits1)\n",
    "fruits2 = [\"mango\", \"pineapple\", \"papaya\"]\n",
    "fruits1.extend(fruits2)\n",
    "print(\"Fruits List After Extend:\", fruits1)\n",
    "\n",
    "# The extend() method does not have to append lists, you can add any iterable object (tuples, sets, dictionaries etc.).\n",
    "fruits1 = [\"apple\", \"banana\", \"cherry\"]\n",
    "print(\"Fruits List Before Extend:\", fruits1)\n",
    "fruits2 = (\"kiwi\", \"orange\") # This is a tuple\n",
    "fruits1.extend(fruits2)\n",
    "print(\"Fruits List After Extend:\", fruits1)"
   ]
  },
  {
   "cell_type": "markdown",
   "id": "214655c1",
   "metadata": {},
   "source": [
    "* Updating Elements into List"
   ]
  },
  {
   "cell_type": "code",
   "execution_count": 60,
   "id": "6e494e7b",
   "metadata": {},
   "outputs": [
    {
     "name": "stdout",
     "output_type": "stream",
     "text": [
      "List after updating the value [10, 25, 30, 40, 50]\n",
      "List after updating the range of values: [10, 'apple', '3.6', 40, 50]\n",
      "List after updating more items: [10, 'apple', 'banana', 'grapes', 40, 50]\n",
      "With less items to insert: ['apple', 'watermelon']\n"
     ]
    }
   ],
   "source": [
    "a = [10, 20, 30, 40, 50]\n",
    "\n",
    "# Change the second element\n",
    "a[1] = 25 \n",
    "print(\"List after updating the value\", a)\n",
    "\n",
    "# Updating range of items\n",
    "a[1:3] = [\"apple\", \"3.6\"]\n",
    "print(\"List after updating the range of values:\", a)\n",
    "\n",
    "# If you insert more items than you replace, the new items will be inserted where you specified, and the remaining items will move accordingly\n",
    "a[2:3] = [\"banana\", \"grapes\"]\n",
    "print(\"List after updating more items:\", a)\n",
    "\n",
    "# If you insert less items than you replace, the new items will be inserted where you specified, and the remaining items will move accordingly\n",
    "fruits = [\"apple\", \"banana\", \"cherry\"]\n",
    "fruits[1:3] = [\"watermelon\"]\n",
    "print(\"With less items to insert:\", fruits)"
   ]
  },
  {
   "cell_type": "markdown",
   "id": "644131bb",
   "metadata": {},
   "source": [
    "<b>Removing Elements from List:</b>\n",
    "* remove(): Removes the first occurrence of an element.\n",
    "* pop(): Removes the element at a specific index or the last element if no index is specified.\n",
    "* del statement: Deletes an element at a specified index."
   ]
  },
  {
   "cell_type": "code",
   "execution_count": 70,
   "id": "cbc4128d",
   "metadata": {},
   "outputs": [
    {
     "name": "stdout",
     "output_type": "stream",
     "text": [
      "After remove(30): [10, 20, 40, 50, 60]\n",
      "Popped element using index: 20\n",
      "After pop(1): [10, 40, 50, 60]\n",
      "Popped element using pop(): 60\n",
      "After pop(): [10, 40, 50]\n",
      "After del a[0]: [40, 50]\n",
      "List before clear: ['apple', 'banana', 'cherry']\n",
      "[]\n"
     ]
    }
   ],
   "source": [
    "a = [10, 20, 30, 40, 50, 60]\n",
    "\n",
    "# Removes the first occurrence of 30\n",
    "a.remove(30)  \n",
    "print(\"After remove(30):\", a)\n",
    "\n",
    "# Removes the element at index 1 (20)\n",
    "popped_val = a.pop(1)  \n",
    "print(\"Popped element using index:\", popped_val)\n",
    "print(\"After pop(1):\", a)\n",
    "\n",
    "popped_val1 = a.pop()\n",
    "print(\"Popped element using pop():\", popped_val1)\n",
    "print(\"After pop():\", a)\n",
    "\n",
    "# Deletes the first element (10)\n",
    "del a[0]  \n",
    "print(\"After del a[0]:\", a)\n",
    "\n",
    "# deleting entire list causes an error \"NameError: name 'a' is not defined\"\n",
    "# Try the code by uncommenting below 2 lines.\n",
    "\n",
    "#del a\n",
    "#print(\"After del a (Entire List):\", a)\n",
    "\n",
    "# The clear() method empties the list. But, it will not delete the list like del\n",
    "fruits = [\"apple\", \"banana\", \"cherry\"]\n",
    "print(\"List before clear:\", fruits)\n",
    "fruits.clear()\n",
    "print(fruits)"
   ]
  },
  {
   "cell_type": "markdown",
   "id": "56812fd1",
   "metadata": {},
   "source": [
    "* <b>Iterating Over Lists using for Loop:</b>"
   ]
  },
  {
   "cell_type": "code",
   "execution_count": 3,
   "id": "ee6479b1",
   "metadata": {},
   "outputs": [
    {
     "name": "stdout",
     "output_type": "stream",
     "text": [
      "printing the list using items:\n",
      "apple\n",
      "banana\n",
      "cherry\n",
      "printing the list using index:\n",
      "apple\n",
      "banana\n",
      "cherry\n",
      "printing the list using List Comprehension:\n",
      "apple\n",
      "banana\n",
      "cherry\n",
      "printing the list using while loop:\n",
      "apple\n",
      "banana\n",
      "cherry\n"
     ]
    }
   ],
   "source": [
    "a = ['apple', 'banana', 'cherry']\n",
    "print(\"printing the list using items:\")\n",
    "# Iterating over the list\n",
    "for item in a:\n",
    "    print(item)\n",
    "\n",
    "# Print all items by referring to their index number\n",
    "print(\"printing the list using index:\")\n",
    "for i in range(len(a)):\n",
    "  print(a[i])\n",
    "\n",
    "# Looping Using List Comprehension\n",
    "print(\"printing the list using List Comprehension:\")\n",
    "fruits = [\"apple\", \"banana\", \"cherry\"]\n",
    "[print(x) for x in fruits]\n",
    "\n",
    "# While loop\n",
    "print(\"printing the list using while loop:\")\n",
    "fruits = [\"apple\", \"banana\", \"cherry\"]\n",
    "i = 0\n",
    "while i < len(fruits):\n",
    "  print(fruits[i])\n",
    "  i = i + 1"
   ]
  },
  {
   "cell_type": "markdown",
   "id": "d51e6aeb",
   "metadata": {},
   "source": [
    "* <b>Nested Lists in Python:</b>"
   ]
  },
  {
   "cell_type": "code",
   "execution_count": 31,
   "id": "899eeb43",
   "metadata": {},
   "outputs": [
    {
     "name": "stdout",
     "output_type": "stream",
     "text": [
      "Defined Matrix\n",
      "1 2 3 \n",
      "4 5 6 \n",
      "7 8 9 \n",
      "Row 2 Column 3 Value: 6\n"
     ]
    }
   ],
   "source": [
    "matrix = [\n",
    "    [1, 2, 3],\n",
    "    [4, 5, 6],\n",
    "    [7, 8, 9]\n",
    "]\n",
    "\n",
    "# Accessing and Printing the Entire Matrix\n",
    "print(\"Defined Matrix\")\n",
    "for i in range(len(matrix)) : \n",
    "    for j in range(len(matrix[i])) : \n",
    "        print(matrix[i][j], end=\" \")\n",
    "    print()\n",
    "\n",
    "# Access element at row 2, column 3\n",
    "print(\"Row 2 Column 3 Value:\", matrix[1][2])"
   ]
  },
  {
   "cell_type": "markdown",
   "id": "c98e836c",
   "metadata": {},
   "source": [
    "* List Comprehension in Python: A concise way to create lists using a single line of code.\n",
    "* List comprehension offers a shorter syntax when you want to create a new list based on the values of an existing list.\n",
    "* <b>Syntax:</b> newlist = [expression for item in iterable if condition == True]\n",
    "\n",
    "https://www.w3schools.com/python/python_lists_comprehension.asp"
   ]
  },
  {
   "cell_type": "code",
   "execution_count": 32,
   "id": "5627ba6c",
   "metadata": {},
   "outputs": [
    {
     "name": "stdout",
     "output_type": "stream",
     "text": [
      "[1, 4, 9, 16, 25]\n"
     ]
    }
   ],
   "source": [
    "# Create a list of squares from 1 to 5\n",
    "squares = [x**2 for x in range(1, 6)]\n",
    "print(squares)"
   ]
  },
  {
   "cell_type": "code",
   "execution_count": 2,
   "id": "57553048",
   "metadata": {},
   "outputs": [
    {
     "name": "stdout",
     "output_type": "stream",
     "text": [
      "New fruits list derived from fruits list ['apple', 'banana', 'mango']\n",
      "New fruits list derived from fruits list ['apple', 'banana', 'mango']\n"
     ]
    }
   ],
   "source": [
    "# Without list comprehension\n",
    "\n",
    "fruits = [\"apple\", \"banana\", \"cherry\", \"kiwi\", \"mango\"]\n",
    "newlist = []\n",
    "\n",
    "for x in fruits:\n",
    "  if \"a\" in x:\n",
    "    newlist.append(x)\n",
    "\n",
    "print(\"New fruits list derived from fruits list\", newlist)\n",
    "\n",
    "# With List Comprehension\n",
    "\n",
    "fruits = [\"apple\", \"banana\", \"cherry\", \"kiwi\", \"mango\"]\n",
    "\n",
    "newlist = [x for x in fruits if \"a\" in x]\n",
    "\n",
    "print(\"New fruits list derived from fruits list\", newlist)"
   ]
  },
  {
   "cell_type": "code",
   "execution_count": 6,
   "id": "8a7b7199",
   "metadata": {},
   "outputs": [
    {
     "name": "stdout",
     "output_type": "stream",
     "text": [
      "Condition List: ['banana', 'cherry', 'kiwi', 'mango']\n",
      "With No condition: ['apple', 'banana', 'cherry', 'kiwi', 'mango']\n",
      "Iterable Number List: [0, 1, 2, 3, 4, 5, 6, 7, 8, 9]\n",
      "Iterable with condition - Even numbers upto 20: [2, 4, 6, 8, 10, 12, 14, 16, 18, 20]\n"
     ]
    }
   ],
   "source": [
    "# Apply condition\n",
    "condition_list = [x for x in fruits if x != \"apple\"]\n",
    "print(\"Condition List:\", condition_list)\n",
    "\n",
    "# The condition is optional and can be omitted\n",
    "newlist = [x for x in fruits]\n",
    "print(\"With No condition:\", newlist)\n",
    "\n",
    "# The iterable can be any iterable object, like a list, tuple, set etc.\n",
    "num_list = [x for x in range(10)]\n",
    "print(\"Iterable Number List:\", num_list)\n",
    "\n",
    "# Iterable with condition\n",
    "even_num_less_than_20 = [x for x in range(1,100) if x <= 20 and x % 2 == 0]\n",
    "print(\"Iterable with condition - Even numbers upto 20:\", even_num_less_than_20)\n"
   ]
  },
  {
   "cell_type": "code",
   "execution_count": 12,
   "id": "18bb95e0",
   "metadata": {},
   "outputs": [
    {
     "name": "stdout",
     "output_type": "stream",
     "text": [
      "With Upper Expression: ['APPLE', 'BANANA', 'CHERRY', 'KIWI', 'MANGO']\n",
      "After setting hello for all items in the list: ['HELLO', 'HELLO', 'HELLO', 'HELLO', 'HELLO']\n",
      "Original List: ['apple', 'banana', 'cherry', 'kiwi', 'mango']\n",
      "Expression with a condition: ['apple', 'orange', 'cherry', 'kiwi', 'mango']\n"
     ]
    }
   ],
   "source": [
    "# The expression is the current item in the iteration, but it is also the outcome, which you can manipulate before it ends up like a list item in the new list\n",
    "newlist = [x.upper() for x in fruits]\n",
    "print(\"With Upper Expression:\", newlist)\n",
    "\n",
    "# Set all values in the new list to 'hello'\n",
    "newlist = ['hello'.upper() for x in fruits]\n",
    "print(\"After setting hello for all items in the list:\", newlist)\n",
    "\n",
    "# The expression can also contain conditions, not like a filter, but as a way to manipulate the outcome\n",
    "newlist = [x if x != \"banana\" else \"orange\" for x in fruits]\n",
    "print(\"Original List:\", fruits)\n",
    "print(\"Expression with a condition:\", newlist)\n",
    "\n",
    "# The expression in the example above says:\n",
    "# \"Return the item if it is not banana, if it is banana return orange\"."
   ]
  },
  {
   "cell_type": "markdown",
   "id": "c06e01aa",
   "metadata": {},
   "source": [
    "<b>List Sorting:</b>\n",
    "\n",
    "* List objects have a sort() method that will sort the list alphanumerically, ascending, by default."
   ]
  },
  {
   "cell_type": "code",
   "execution_count": 20,
   "id": "6439114b",
   "metadata": {},
   "outputs": [
    {
     "name": "stdout",
     "output_type": "stream",
     "text": [
      "Original List: ['b', 'd', 'c', 'a', 'e']\n",
      "Sorted List: ['a', 'b', 'c', 'd', 'e']\n",
      "Original Number List: [100, 50, 65, 82, 23]\n",
      "Sorted List of numbers: [23, 50, 65, 82, 100]\n"
     ]
    }
   ],
   "source": [
    "# Sort Lists\n",
    "alphabates = [\"b\", \"d\", \"c\", \"a\", \"e\"]\n",
    "print(\"Original List:\", alphabates)\n",
    "alphabates.sort()\n",
    "print(\"Sorted List:\", alphabates)\n",
    "\n",
    "numbers = [100, 50, 65, 82, 23]\n",
    "print(\"Original Number List:\", numbers)\n",
    "numbers.sort()\n",
    "print(\"Sorted List of numbers:\", numbers)"
   ]
  },
  {
   "cell_type": "markdown",
   "id": "1ea4fb09",
   "metadata": {},
   "source": [
    "<b>Sort Descending:</b>\n",
    "* To sort descending, use the keyword argument reverse = True"
   ]
  },
  {
   "cell_type": "code",
   "execution_count": 22,
   "id": "a6f35587",
   "metadata": {},
   "outputs": [
    {
     "name": "stdout",
     "output_type": "stream",
     "text": [
      "['pineapple', 'orange', 'mango', 'kiwi', 'banana']\n",
      "[100, 82, 65, 50, 23]\n"
     ]
    }
   ],
   "source": [
    "# String List\n",
    "fruits = [\"orange\", \"mango\", \"kiwi\", \"pineapple\", \"banana\"]\n",
    "fruits.sort(reverse = True)\n",
    "print(fruits)\n",
    "\n",
    "# Numbers List\n",
    "num = [100, 50, 65, 82, 23]\n",
    "num.sort(reverse = True)\n",
    "print(num)"
   ]
  },
  {
   "cell_type": "markdown",
   "id": "606d96a4",
   "metadata": {},
   "source": [
    "<b>Case Insensitive Sort:</b>\n",
    "\n",
    "* By default the sort() method is case sensitive, resulting in all capital letters being sorted before lower case letters\n",
    "* Luckily we can use built-in functions as key functions when sorting a list.\n",
    "* So if you want a case-insensitive sort function, use str.lower as a key function."
   ]
  },
  {
   "cell_type": "code",
   "execution_count": 26,
   "id": "27d7e44f",
   "metadata": {},
   "outputs": [
    {
     "name": "stdout",
     "output_type": "stream",
     "text": [
      "Sorting with upper case first: ['Kiwi', 'Orange', 'banana', 'cherry']\n",
      "Sorting with lower case first: ['banana', 'cherry', 'Kiwi', 'Orange']\n"
     ]
    }
   ],
   "source": [
    "# Sorting on Upper Case\n",
    "fruits = [\"banana\", \"Orange\", \"Kiwi\", \"cherry\"]\n",
    "fruits.sort()\n",
    "print(\"Sorting with upper case first:\", fruits)\n",
    "\n",
    "# Sorting on Lower Case\n",
    "fruits = [\"banana\", \"Orange\", \"Kiwi\", \"cherry\"]\n",
    "fruits.sort(key = str.lower)\n",
    "print(\"Sorting with lower case first:\", fruits)"
   ]
  },
  {
   "cell_type": "markdown",
   "id": "068de25b",
   "metadata": {},
   "source": [
    "<b>Reverse Order:</b>\n",
    "\n",
    "* The reverse() method reverses the current sorting order of the elements."
   ]
  },
  {
   "cell_type": "code",
   "execution_count": 27,
   "id": "9ccf19d2",
   "metadata": {},
   "outputs": [
    {
     "name": "stdout",
     "output_type": "stream",
     "text": [
      "['cherry', 'Kiwi', 'Orange', 'banana']\n"
     ]
    }
   ],
   "source": [
    "fruits = [\"banana\", \"Orange\", \"Kiwi\", \"cherry\"]\n",
    "fruits.reverse()\n",
    "print(fruits)"
   ]
  },
  {
   "cell_type": "markdown",
   "id": "b554c620",
   "metadata": {},
   "source": [
    "<b>Copy a List:</b>\n",
    "\n",
    "* You cannot copy a list simply by typing list2 = list1, because: list2 will only be a reference to list1, and changes made in list1 will automatically also be made in list2."
   ]
  },
  {
   "cell_type": "code",
   "execution_count": 28,
   "id": "0353b588",
   "metadata": {},
   "outputs": [
    {
     "name": "stdout",
     "output_type": "stream",
     "text": [
      "Copied List: ['apple', 'banana', 'cherry']\n"
     ]
    }
   ],
   "source": [
    "# You can use the built-in List method copy() to copy a list.\n",
    "fruits = [\"apple\", \"banana\", \"cherry\"]\n",
    "mylist = fruits.copy()\n",
    "print(\"Copied List:\", mylist)"
   ]
  },
  {
   "cell_type": "code",
   "execution_count": 30,
   "id": "aa331de7",
   "metadata": {},
   "outputs": [
    {
     "name": "stdout",
     "output_type": "stream",
     "text": [
      "My Fruits List: ['banana', 'cherry']\n"
     ]
    }
   ],
   "source": [
    "# You can also make a copy of a list by using the : (slice) operator.\n",
    "fruits = [\"apple\", \"banana\", \"cherry\"]\n",
    "mylist = fruits[1:3]\n",
    "print(\"My Fruits List:\", mylist)"
   ]
  },
  {
   "cell_type": "markdown",
   "id": "dcd1a14e",
   "metadata": {},
   "source": [
    "<b>Join Lists:</b>\n",
    "\n",
    "* There are several ways to join, or concatenate, two or more lists in Python.\n",
    "* One of the easiest ways are by using the + operator."
   ]
  },
  {
   "cell_type": "code",
   "execution_count": 31,
   "id": "a94e22ed",
   "metadata": {},
   "outputs": [
    {
     "name": "stdout",
     "output_type": "stream",
     "text": [
      "New list after joining: ['a', 'b', 'c', 1, 2, 3]\n"
     ]
    }
   ],
   "source": [
    "list1 = [\"a\", \"b\", \"c\"]\n",
    "list2 = [1, 2, 3]\n",
    "\n",
    "list3 = list1 + list2\n",
    "print(\"New list after joining:\", list3)"
   ]
  },
  {
   "cell_type": "code",
   "execution_count": 32,
   "id": "8e2dd5a7",
   "metadata": {},
   "outputs": [
    {
     "name": "stdout",
     "output_type": "stream",
     "text": [
      "Updated List: [1, 2, 3, 4, 5, 6]\n"
     ]
    }
   ],
   "source": [
    "# Another way to join two lists is by appending all the items from list2 into list1, one by one.\n",
    "list1 = [1, 2, 3]\n",
    "list2 = [4, 5, 6]\n",
    "\n",
    "for x in list2:\n",
    "  list1.append(x)\n",
    "\n",
    "print(\"Updated List:\", list1)"
   ]
  },
  {
   "cell_type": "code",
   "execution_count": 33,
   "id": "7cc85635",
   "metadata": {},
   "outputs": [
    {
     "name": "stdout",
     "output_type": "stream",
     "text": [
      "Updated List: [1, 2, 3, 4, 5, 6]\n"
     ]
    }
   ],
   "source": [
    "# Using extend.\n",
    "list1 = [1, 2, 3]\n",
    "list2 = [4, 5, 6]\n",
    "list1.extend(list2)\n",
    "\n",
    "print(\"Updated List:\", list1)"
   ]
  },
  {
   "cell_type": "markdown",
   "id": "4f2f2a8d",
   "metadata": {},
   "source": [
    "<b>List Methods:</b>\n",
    "| Method                                                | Description |\n",
    "| --------------------------------------------------- | ---------- |\n",
    "| append() |    Adds an element at the end of the list    |\n",
    "| clear() |    Removes all the elements from the list    |\n",
    "| copy() |      Returns a copy of the list  |\n",
    "| count() |   Returns the number of elements with the specified value     |\n",
    "| extend() |   Add the elements of a list (or any iterable), to the end of the current list     |\n",
    "| index() |     Returns the index of the first element with the specified value   |\n",
    "| insert() |  Adds an element at the specified position      |\n",
    "| pop() |    Removes the element at the specified position    |\n",
    "| remove() |   Removes the item with the specified value     |\n",
    "| reverse() |   Reverses the order of the list     |\n",
    "| sort() |    Sorts the list    |\n"
   ]
  }
 ],
 "metadata": {
  "kernelspec": {
   "display_name": "venv",
   "language": "python",
   "name": "python3"
  },
  "language_info": {
   "codemirror_mode": {
    "name": "ipython",
    "version": 3
   },
   "file_extension": ".py",
   "mimetype": "text/x-python",
   "name": "python",
   "nbconvert_exporter": "python",
   "pygments_lexer": "ipython3",
   "version": "3.12.4"
  }
 },
 "nbformat": 4,
 "nbformat_minor": 5
}
