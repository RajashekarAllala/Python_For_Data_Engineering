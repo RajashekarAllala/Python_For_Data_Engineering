{
 "cells": [
  {
   "cell_type": "markdown",
   "id": "0992e3e0",
   "metadata": {},
   "source": [
    "**Tuple Operations:**\n",
    "\n",
    "* Tuples are used to store multiple items in a single variable.\n",
    "* A tuple is a collection which is ordered and immutable (unchangeable).\n",
    "* Attempting to modify a tuple will result in a TypeError.\n",
    "* Tuples are written with round brackets (parenthesis) and elements are separated by commas."
   ]
  },
  {
   "cell_type": "code",
   "execution_count": 1,
   "id": "b96ac09a",
   "metadata": {},
   "outputs": [
    {
     "name": "stdout",
     "output_type": "stream",
     "text": [
      "Created tuple: ('apple', 'banana', 'cherry')\n"
     ]
    }
   ],
   "source": [
    "fruits = (\"apple\", \"banana\", \"cherry\")\n",
    "print(\"Created tuple:\", fruits)"
   ]
  },
  {
   "cell_type": "markdown",
   "id": "be190e2e",
   "metadata": {},
   "source": [
    "* Tuple items can be of any data type. However, tuple is always tuple type data type."
   ]
  },
  {
   "cell_type": "code",
   "execution_count": null,
   "id": "ae8274d0",
   "metadata": {},
   "outputs": [
    {
     "name": "stdout",
     "output_type": "stream",
     "text": [
      "Data Type of tuple1: <class 'tuple'>\n",
      "Data Type of tuple2: <class 'tuple'>\n",
      "Data Type of tuple3: <class 'tuple'>\n",
      "Data Type of tuple4: <class 'tuple'>\n"
     ]
    }
   ],
   "source": [
    "tuple1 = (\"apple\", \"banana\", \"cherry\")\n",
    "tuple2 = (1, 5, 7, 9, 3)\n",
    "tuple3 = (True, False, False)\n",
    "tuple4 = (1, \"apple\", 3, True)\n",
    "\n",
    "print(\"Data Type of tuple1:\", type(tuple1))\n",
    "print(\"Data Type of tuple2:\", type(tuple2))\n",
    "print(\"Data Type of tuple3:\", type(tuple3))\n",
    "print(\"Data Type of tuple4:\", type(tuple4))"
   ]
  },
  {
   "cell_type": "code",
   "execution_count": 13,
   "id": "10e5da37",
   "metadata": {},
   "outputs": [
    {
     "name": "stdout",
     "output_type": "stream",
     "text": [
      "Created tuple: ('apple', 'banana', 'cherry')\n"
     ]
    }
   ],
   "source": [
    "# Using the tuple() method to make a tuple\n",
    "fruits = tuple((\"apple\", \"banana\", \"cherry\")) # note the double round-brackets\n",
    "print(\"Created tuple:\", fruits)"
   ]
  },
  {
   "cell_type": "markdown",
   "id": "1093f55f",
   "metadata": {},
   "source": [
    "* Tuple items are ordered, unchangeable, and allow duplicate values.\n",
    "* Like strings and lists, tuple items are also indexed with starting index 0\n",
    "\n",
    "---------------------------------------------------------------------------------------------------------------------\n",
    "\n",
    "* When we say that tuples are ordered, it means that the items have a defined order, and that order will not change.\n",
    "* Tuples are unchangeable, meaning that we cannot change, add or remove items after the tuple has been created.\n",
    "* Since tuples are indexed, they can have items with the same value."
   ]
  },
  {
   "cell_type": "code",
   "execution_count": 16,
   "id": "85103e0c",
   "metadata": {},
   "outputs": [
    {
     "name": "stdout",
     "output_type": "stream",
     "text": [
      "First element: 1\n",
      "Last element: b\n",
      "From index 2 till end: (3, 'a', 'b')\n",
      "Using negative index range: ('orange', 'kiwi', 'melon')\n"
     ]
    }
   ],
   "source": [
    "# Accessing elements in a tuple (indexing)\n",
    "# Syntax: tuple[index]\n",
    "my_tuple = (1, 2, 3, 'a', 'b')\n",
    "# Accessing the first element\n",
    "print(\"First element:\", my_tuple[0]) \n",
    "\n",
    "# Accessing the last element\n",
    "print(\"Last element:\", my_tuple[-1]) \n",
    "\n",
    "# Accessing the tuple from 2nd element to end\n",
    "print(\"From index 2 till end:\", my_tuple[2:])\n",
    "\n",
    "# Range of negative indexes\n",
    "fruits = (\"apple\", \"banana\", \"cherry\", \"orange\", \"kiwi\", \"melon\", \"mango\")\n",
    "print(\"Using negative index range:\", fruits[-4:-1])"
   ]
  },
  {
   "cell_type": "code",
   "execution_count": 6,
   "id": "dd13d10a",
   "metadata": {},
   "outputs": [
    {
     "name": "stdout",
     "output_type": "stream",
     "text": [
      "Elements from index 1 up to (but not including) index 3: (2, 3)\n",
      "Accessing Elements with Step 2: (1, 3, 'b')\n"
     ]
    }
   ],
   "source": [
    "# Slicing a tuple\n",
    "# Syntax: tuple[start:stop:step]\n",
    "print(\"Elements from index 1 up to (but not including) index 3:\", my_tuple[1:3]) # Accessing elements from index 1 up to (but not including) index 3\n",
    "print(\"Accessing Elements with Step 2:\", my_tuple[::2]) # Accessing every other element"
   ]
  },
  {
   "cell_type": "code",
   "execution_count": 7,
   "id": "691ebf75",
   "metadata": {},
   "outputs": [
    {
     "name": "stdout",
     "output_type": "stream",
     "text": [
      "After concatenation: (1, 2, 3, 4)\n"
     ]
    }
   ],
   "source": [
    "# Concatenation\n",
    "# Syntax: tuple1 + tuple2\n",
    "tuple1 = (1, 2)\n",
    "tuple2 = (3, 4)\n",
    "combined_tuple = tuple1 + tuple2\n",
    "print(\"After concatenation:\", combined_tuple)"
   ]
  },
  {
   "cell_type": "code",
   "execution_count": 8,
   "id": "042528e8",
   "metadata": {},
   "outputs": [
    {
     "name": "stdout",
     "output_type": "stream",
     "text": [
      "Repeated tuple: (1, 2, 1, 2, 1, 2)\n"
     ]
    }
   ],
   "source": [
    "# Repetition\n",
    "# Syntax: tuple * n (where n is the number of repetitions)\n",
    "repeated_tuple = tuple1 * 3\n",
    "print(\"Repeated tuple:\", repeated_tuple)"
   ]
  },
  {
   "cell_type": "code",
   "execution_count": 17,
   "id": "213e4178",
   "metadata": {},
   "outputs": [
    {
     "name": "stdout",
     "output_type": "stream",
     "text": [
      "False\n",
      "False\n",
      "Yes, 'apple' is in the fruits tuple\n"
     ]
    }
   ],
   "source": [
    "# Membership\n",
    "# Syntax: item in tuple (returns True if item is in tuple, False otherwise)\n",
    "print(1 in tuple1)\n",
    "print(5 in tuple1)\n",
    "\n",
    "fruits = (\"apple\", \"banana\", \"cherry\")\n",
    "if \"apple\" in fruits:\n",
    "  print(\"Yes, 'apple' is in the fruits tuple\")"
   ]
  },
  {
   "cell_type": "code",
   "execution_count": 10,
   "id": "c42df95c",
   "metadata": {},
   "outputs": [
    {
     "name": "stdout",
     "output_type": "stream",
     "text": [
      "Length of the tuple: 5\n"
     ]
    }
   ],
   "source": [
    "# Length of a tuple\n",
    "# Syntax: len(tuple)\n",
    "print(\"Length of the tuple:\", len(my_tuple))"
   ]
  },
  {
   "cell_type": "markdown",
   "id": "e937997f",
   "metadata": {},
   "source": [
    "**Change Tuple Values**\n",
    "* As mentioned earlier, once a tuple is created, you cannot change its values. Tuples are unchangeable or immutable.\n",
    "* But there is a workaround. You can convert the tuple into a list, change the list, and convert the list back into a tuple."
   ]
  },
  {
   "cell_type": "code",
   "execution_count": 18,
   "id": "5d140277",
   "metadata": {},
   "outputs": [
    {
     "name": "stdout",
     "output_type": "stream",
     "text": [
      "Updated tuple: ('apple', 'kiwi', 'cherry')\n"
     ]
    }
   ],
   "source": [
    "x = (\"apple\", \"banana\", \"cherry\")\n",
    "y = list(x)\n",
    "y[1] = \"kiwi\"\n",
    "x = tuple(y)\n",
    "\n",
    "print(\"Updated tuple:\", x)"
   ]
  },
  {
   "cell_type": "markdown",
   "id": "12844c0a",
   "metadata": {},
   "source": [
    "**Add Items**\n",
    "* As the tuples are immutable, they do not have a built-in append() method, but there are other ways to add items to a tuple.\n",
    "\n",
    "1. Convert into a list: Just like the workaround for changing a tuple, you can convert it into a list, add your item(s), and convert it back into a tuple.\n",
    "2. Add tuple to a tuple. You are allowed to add tuples to tuples, so if you want to add one item, (or many), create a new tuple with the item(s), and add it to the existing tuple."
   ]
  },
  {
   "cell_type": "code",
   "execution_count": 24,
   "id": "44335c5c",
   "metadata": {},
   "outputs": [
    {
     "name": "stdout",
     "output_type": "stream",
     "text": [
      "After appending an item to tuple: ('apple', 'banana', 'cherry', 'orange')\n",
      "After adding two tuples: ('apple', 'banana', 'cherry', 'orange')\n"
     ]
    }
   ],
   "source": [
    "x = (\"apple\", \"banana\", \"cherry\")\n",
    "# Using List Append()\n",
    "y = list(x)\n",
    "y.append(\"orange\")\n",
    "x = tuple(y)\n",
    "print(\"After appending an item to tuple:\", x)\n",
    "\n",
    "# Using tuple concatenation\n",
    "x = (\"apple\", \"banana\", \"cherry\")\n",
    "y = (\"orange\",)\n",
    "x += y\n",
    "print(\"After adding two tuples:\", x)"
   ]
  },
  {
   "cell_type": "markdown",
   "id": "ffff51cd",
   "metadata": {},
   "source": [
    "**Remove Items**\n",
    "* Tuples are immutable, so you cannot remove items from it, but you can use the same workaround as we used for changing and adding tuple items"
   ]
  },
  {
   "cell_type": "code",
   "execution_count": 35,
   "id": "9c5a8dd4",
   "metadata": {},
   "outputs": [
    {
     "name": "stdout",
     "output_type": "stream",
     "text": [
      "After removing an element: ('apple', 'banana', 'orange')\n"
     ]
    }
   ],
   "source": [
    "# Convert the tuple into a list, remove \"apple\", and convert it back into a tuple\n",
    "fruits = (\"apple\", \"banana\", \"cherry\", \"orange\")\n",
    "y = list(fruits)\n",
    "y.remove(\"cherry\")\n",
    "fruits = tuple(y)\n",
    "\n",
    "print(\"After removing an element:\", fruits)"
   ]
  },
  {
   "cell_type": "code",
   "execution_count": null,
   "id": "aa253839",
   "metadata": {},
   "outputs": [
    {
     "ename": "NameError",
     "evalue": "name 'x' is not defined",
     "output_type": "error",
     "traceback": [
      "\u001b[1;31m---------------------------------------------------------------------------\u001b[0m",
      "\u001b[1;31mNameError\u001b[0m                                 Traceback (most recent call last)",
      "Cell \u001b[1;32mIn[36], line 4\u001b[0m\n\u001b[0;32m      2\u001b[0m x \u001b[38;5;241m=\u001b[39m (\u001b[38;5;124m\"\u001b[39m\u001b[38;5;124mapple\u001b[39m\u001b[38;5;124m\"\u001b[39m, \u001b[38;5;124m\"\u001b[39m\u001b[38;5;124mbanana\u001b[39m\u001b[38;5;124m\"\u001b[39m, \u001b[38;5;124m\"\u001b[39m\u001b[38;5;124mcherry\u001b[39m\u001b[38;5;124m\"\u001b[39m)\n\u001b[0;32m      3\u001b[0m \u001b[38;5;28;01mdel\u001b[39;00m x\n\u001b[1;32m----> 4\u001b[0m \u001b[38;5;28mprint\u001b[39m(\u001b[43mx\u001b[49m) \u001b[38;5;66;03m#this will raise an error because the tuple no longer exists\u001b[39;00m\n",
      "\u001b[1;31mNameError\u001b[0m: name 'x' is not defined"
     ]
    }
   ],
   "source": [
    "# The del keyword can delete the tuple completely. When a tuple is deleted and try to access the elements, it throws an error\n",
    "x = (\"apple\", \"banana\", \"cherry\")\n",
    "del x\n",
    "print(x) #this will raise an error because the tuple no longer exists"
   ]
  },
  {
   "cell_type": "markdown",
   "id": "3c834159",
   "metadata": {},
   "source": [
    "**Unpacking a Tuple**\n",
    "* When we create a tuple, we normally assign values to it. This is called \"packing\" a tuple.\n",
    "* But, in Python, we are also allowed to extract the values back into variables. This is called \"unpacking\".\n",
    "\n",
    "\n",
    "Note: The number of variables must match the number of values in the tuple, if not, you must use an asterisk to collect the remaining values as a list."
   ]
  },
  {
   "cell_type": "code",
   "execution_count": 38,
   "id": "f937ec1e",
   "metadata": {},
   "outputs": [
    {
     "name": "stdout",
     "output_type": "stream",
     "text": [
      "apple\n",
      "banana\n",
      "cherry\n"
     ]
    }
   ],
   "source": [
    "# Define a tuple - Packing\n",
    "fruits = (\"apple\", \"banana\", \"cherry\")\n",
    "\n",
    "# Assign the tuple elements to variables defined in parenthesis - Unpacking\n",
    "\n",
    "(green, yellow, red) = fruits\n",
    "\n",
    "print(green)\n",
    "print(yellow)\n",
    "print(red)"
   ]
  },
  {
   "cell_type": "markdown",
   "id": "ea6e256c",
   "metadata": {},
   "source": [
    "**Using Asterisk (\\*) :**\n",
    "* If the number of variables is less than the number of values, you can add an * to the variable name and the values will be assigned to the variable as a list.\n",
    "* If the asterisk is added to another variable name than the last, Python will assign values to the variable until the number of values left matches the number of variables left.\n"
   ]
  },
  {
   "cell_type": "code",
   "execution_count": 42,
   "id": "54ea466c",
   "metadata": {},
   "outputs": [
    {
     "name": "stdout",
     "output_type": "stream",
     "text": [
      "apple\n",
      "banana\n",
      "['cherry', 'strawberry', 'raspberry']\n",
      "--------------------------------------\n",
      "apple\n",
      "['mango', 'papaya', 'pineapple']\n",
      "cherry\n"
     ]
    }
   ],
   "source": [
    "# Assign the rest of the values as a list called \"red\"\n",
    "fruits = (\"apple\", \"banana\", \"cherry\", \"strawberry\", \"raspberry\")\n",
    "\n",
    "(green, yellow, *red) = fruits\n",
    "\n",
    "print(green)\n",
    "print(yellow)\n",
    "print(red)\n",
    "\n",
    "# Add a list of values the \"tropic\" variable\n",
    "fruits = (\"apple\", \"mango\", \"papaya\", \"pineapple\", \"cherry\")\n",
    "\n",
    "(green, *tropic, red) = fruits\n",
    "print(\"--------------------------------------\")\n",
    "print(green)\n",
    "print(tropic)\n",
    "print(red)"
   ]
  }
 ],
 "metadata": {
  "kernelspec": {
   "display_name": "Python 3",
   "language": "python",
   "name": "python3"
  },
  "language_info": {
   "codemirror_mode": {
    "name": "ipython",
    "version": 3
   },
   "file_extension": ".py",
   "mimetype": "text/x-python",
   "name": "python",
   "nbconvert_exporter": "python",
   "pygments_lexer": "ipython3",
   "version": "3.10.11"
  }
 },
 "nbformat": 4,
 "nbformat_minor": 5
}
