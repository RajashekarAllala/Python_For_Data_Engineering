{
 "cells": [
  {
   "cell_type": "markdown",
   "id": "e96337b8",
   "metadata": {},
   "source": [
    "---------------- Data Types ----------------"
   ]
  },
  {
   "cell_type": "code",
   "execution_count": 2,
   "id": "a6039a1a",
   "metadata": {},
   "outputs": [
    {
     "name": "stdout",
     "output_type": "stream",
     "text": [
      "Integrer: 10\n",
      "Type of a: <class 'int'>\n",
      "  \n",
      "Float: 10.5\n",
      "Type of b: <class 'float'>\n",
      "  \n",
      "String: Hello\n",
      "Type of c: <class 'str'>\n",
      "  \n",
      "Boolean: True\n",
      "Type of d: <class 'bool'>\n"
     ]
    }
   ],
   "source": [
    "# Data Types in Python are dynamic and can change at runtime.\n",
    "# Data Types are used to define the type of a variable.\n",
    "# Python has several built-in data types, including:\n",
    "# - Numeric Types: int, float, complex\n",
    "# - Sequence Types: list, tuple, range\n",
    "# - Text Type: str\n",
    "# - Mapping Type: dict\n",
    "# - Set Types: set, frozenset\n",
    "# - Boolean Type: bool\n",
    "# - Binary Types: bytes, bytearray, memoryview\n",
    "# - None Type: NoneType\n",
    "\n",
    "# Data Types - int, float, string, boolean\n",
    "# int\n",
    "a = 10\n",
    "# float\n",
    "b = 10.5\n",
    "# string``\n",
    "c = \"Hello\"\n",
    "# boolean\n",
    "d = True\n",
    "\n",
    "print(\"Integrer:\", a)\n",
    "print(\"Type of a:\", type(a))\n",
    "print(\"  \")\n",
    "\n",
    "print(\"Float:\", b)\n",
    "print(\"Type of b:\", type(b))\n",
    "print(\"  \")\n",
    "\n",
    "print(\"String:\", c)\n",
    "print(\"Type of c:\", type(c))\n",
    "print(\"  \")\n",
    "\n",
    "print(\"Boolean:\", d)\n",
    "print(\"Type of d:\", type(d))"
   ]
  }
 ],
 "metadata": {
  "kernelspec": {
   "display_name": "base",
   "language": "python",
   "name": "python3"
  },
  "language_info": {
   "codemirror_mode": {
    "name": "ipython",
    "version": 3
   },
   "file_extension": ".py",
   "mimetype": "text/x-python",
   "name": "python",
   "nbconvert_exporter": "python",
   "pygments_lexer": "ipython3",
   "version": "3.12.4"
  }
 },
 "nbformat": 4,
 "nbformat_minor": 5
}
