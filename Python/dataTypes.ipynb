# Data Types - int, float, string, boolean
#int
a = 10
#float
b = 10.5
#string
c = "Hello"
#boolean
d = True

print("Integrer:", a)
print("Type of a:", type(a))
print("  ")

print("Float:", b)
print("Type of b:", type(b))
print("  ")

print("String:", c)
print("Type of c:", type(c))
print("  ")

print("Boolean:", d)
print("Type of d:", type(d))
