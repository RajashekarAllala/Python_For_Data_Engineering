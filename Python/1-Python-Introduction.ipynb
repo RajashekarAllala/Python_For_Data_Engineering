{
 "cells": [
  {
   "cell_type": "markdown",
   "id": "85ef332b",
   "metadata": {},
   "source": [
    "**Python Version**"
   ]
  },
  {
   "cell_type": "code",
   "execution_count": 15,
   "id": "20ac251e",
   "metadata": {},
   "outputs": [
    {
     "name": "stdout",
     "output_type": "stream",
     "text": [
      "Python version: 3.10.11 (tags/v3.10.11:7d4cc5a, Apr  5 2023, 00:38:17) [MSC v.1929 64 bit (AMD64)]\n",
      " \n",
      "Version info: sys.version_info(major=3, minor=10, micro=11, releaselevel='final', serial=0)\n"
     ]
    }
   ],
   "source": [
    "import sys\n",
    "\n",
    "print(\"Python version:\", sys.version)\n",
    "print(\" \")\n",
    "print(\"Version info:\", sys.version_info)"
   ]
  },
  {
   "cell_type": "markdown",
   "id": "82c4dfa1",
   "metadata": {},
   "source": [
    "**Python Basics - Print**"
   ]
  },
  {
   "cell_type": "code",
   "execution_count": 16,
   "id": "7edf9114",
   "metadata": {},
   "outputs": [
    {
     "name": "stdout",
     "output_type": "stream",
     "text": [
      "Hello Pyhon World!\n"
     ]
    }
   ],
   "source": [
    "# Print is a built-in function in Python that outputs text to the console.\n",
    "print(\"Hello Pyhon World!\")"
   ]
  },
  {
   "cell_type": "markdown",
   "id": "2762d1fd",
   "metadata": {},
   "source": [
    "**Different ways to use print function**"
   ]
  },
  {
   "cell_type": "code",
   "execution_count": 17,
   "id": "c3890de7",
   "metadata": {},
   "outputs": [
    {
     "name": "stdout",
     "output_type": "stream",
     "text": [
      "The value of a is: 5\n",
      "The value of a is: 5\n",
      "The value of a is: 5\n",
      "The value of a is: 5\n",
      "The value of a is: 5\n",
      "x and y values are: 5 Python\n",
      "x value is '5' and y value is 'Python'\n",
      "The value of x is: 5 and the value of y is: Python\n",
      "The value of x is: 5 and the value of y is: Python\n",
      "The value of x is: 5 and the value of y is: Python\n"
     ]
    }
   ],
   "source": [
    "# This is a simple Python script that prints a message to the console.\n",
    "# It serves as a basic example of how to write and run a Python script.\n",
    "\n",
    "a = 5\n",
    "print(\"The value of a is:\", a) # Basic print statement\n",
    "print(f\"The value of a is: {a}\")  # Using f-string for formatted output\n",
    "print(\"The value of a is: {}\".format(a))  # Using format method for formatted output\n",
    "print(\"The value of a is: %d\" % a)  # Using old-style formatting\n",
    "print(\"The value of a is: {0}\".format(a))  # Using positional formatting\n",
    "\n",
    "# The script demonstrates different ways to format strings in Python.\n",
    "# It also includes a comment explaining the purpose of the script.\n",
    "\n",
    "# Printing multiple variables using print()\n",
    "\n",
    "x = 5\n",
    "y = \"Python\"\n",
    "\n",
    "print(\"x and y values are:\", x, y)\n",
    "print(f\"x value is '{x}' and y value is '{y}'\")\n",
    "print(\"The value of x is: {} and the value of y is: {}\".format(x,y))\n",
    "print(\"The value of x is: %d and the value of y is: %s\" % (x, y))\n",
    "print(\"The value of x is: {0} and the value of y is: {1}\".format(x,y))\n",
    "\n",
    "\n"
   ]
  },
  {
   "cell_type": "markdown",
   "id": "f4a803a6",
   "metadata": {},
   "source": [
    "**Taking input from the user :**"
   ]
  },
  {
   "cell_type": "code",
   "execution_count": 18,
   "id": "f3a6a3d7",
   "metadata": {},
   "outputs": [
    {
     "name": "stdout",
     "output_type": "stream",
     "text": [
      "Hello! Mike, your age is 32\n"
     ]
    }
   ],
   "source": [
    "# Use input() to take input from the user during the run time.\n",
    "name = input(\"Enter Name: \")\n",
    "age = input(\"Enter Age: \") \n",
    "\n",
    "print(f\"Hello! {name}, your age is {age}\")"
   ]
  },
  {
   "cell_type": "markdown",
   "id": "ce046c76",
   "metadata": {},
   "source": [
    "**Comments in Python**\n",
    "\n",
    "* Comments can be used to explain Python code.\n",
    "* Comments can be used to make the code more readable.\n",
    "* Comments can be used to prevent execution when testing code.\n",
    "* Comments can be placed at the end of a line, and Python will ignore the rest of the line.\n",
    "* A comment does not have to be text that explains the code, it can also be used to prevent Python from executing code."
   ]
  },
  {
   "cell_type": "code",
   "execution_count": 19,
   "id": "abd1dcb2",
   "metadata": {},
   "outputs": [
    {
     "name": "stdout",
     "output_type": "stream",
     "text": [
      "The value of a is now: 10\n"
     ]
    }
   ],
   "source": [
    "#Comments in Python start with a hash (#) symbol.\n",
    "# This script can be run in any Python environment, such as a terminal or an IDE.\n",
    "\n",
    "a = 10\n",
    "print(\"The value of a is now:\", a)  # This will print the updated value of a\n",
    "\n",
    "# Above code with # symbols are comments and will not be executed.\n",
    "# Comments can be used to explain code, making it easier to understand."
   ]
  },
  {
   "cell_type": "code",
   "execution_count": 20,
   "id": "31dcdc25",
   "metadata": {},
   "outputs": [
    {
     "name": "stdout",
     "output_type": "stream",
     "text": [
      "Hello User! Welcome to Python.\n",
      "This is a simple Python code to demonstrate single and multi-line comments.\n"
     ]
    }
   ],
   "source": [
    "# Different ways to use comments:\n",
    "# Single-line comment\n",
    "# This is a single-line comment explaining the next line of code\n",
    "# Python does not really have a syntax for multiline comments.\n",
    "# Since Python will ignore string literals that are not assigned to a variable, you can add a multiline string (triple quotes) in your code, and place your comment inside it.\n",
    "\n",
    "'''\n",
    "This is a multiline comment\n",
    "using triple single quotes.\n",
    "It can span multiple lines.\n",
    "'''\n",
    "print(\"Hello User! Welcome to Python.\")\n",
    "\"\"\"\n",
    "This is another example of a multiline comment\n",
    "using triple double quotes.\n",
    "\"\"\"\n",
    "print(\"This is a simple Python code to demonstrate single and multi-line comments.\")"
   ]
  },
  {
   "cell_type": "markdown",
   "id": "01f0b5c7",
   "metadata": {},
   "source": [
    "**Python Indentation**"
   ]
  },
  {
   "cell_type": "code",
   "execution_count": 21,
   "id": "3951686f",
   "metadata": {},
   "outputs": [
    {
     "name": "stdout",
     "output_type": "stream",
     "text": [
      "You entered a valid number: 6\n"
     ]
    }
   ],
   "source": [
    "'''\n",
    "Indentation is important in Python.\n",
    "It defines the blocks of code.\n",
    "Indentation can be done using spaces or tabs,\n",
    "but it is recommended to use spaces for consistency.\n",
    "This script uses 4 spaces for indentation.\n",
    "'''\n",
    "# Example of Indentation\n",
    "a = input(\"Enter a number: \") # Input from user\n",
    "if a.isdigit():  # Check if input is a digit\n",
    "    print(\"You entered a valid number:\", a)\n",
    "else:\n",
    "    print(\"Invalid input, please enter a number.\")"
   ]
  },
  {
   "cell_type": "markdown",
   "id": "398c3391",
   "metadata": {},
   "source": [
    "**Python Variables :** <br><br>\n",
    "A variable is a symbolic name that refers to a value stored in the computer's memory. It acts as a placeholder or a container for data, allowing you to store, retrieve, and manipulate information within your program."
   ]
  },
  {
   "cell_type": "code",
   "execution_count": 22,
   "id": "7c56df67",
   "metadata": {},
   "outputs": [
    {
     "name": "stdout",
     "output_type": "stream",
     "text": [
      "5\n",
      "Hello\n"
     ]
    }
   ],
   "source": [
    "x = 5\n",
    "y = \"Hello\"\n",
    "\n",
    "# Here x and y are variables.\n",
    "# x is an integer and y is a string.\n",
    "\n",
    "print(x)\n",
    "print(y)"
   ]
  },
  {
   "cell_type": "markdown",
   "id": "18cb431e",
   "metadata": {},
   "source": [
    "**String Assignment using single or double quotes**"
   ]
  },
  {
   "cell_type": "code",
   "execution_count": 23,
   "id": "5404612f",
   "metadata": {},
   "outputs": [
    {
     "name": "stdout",
     "output_type": "stream",
     "text": [
      "This is a string in single quotes.\n",
      "This is a string in double quotes.\n"
     ]
    }
   ],
   "source": [
    "# Code to demonstrate single and double quotes\n",
    "single_quote_string = 'This is a string in single quotes.'\n",
    "double_quote_string = \"This is a string in double quotes.\"\n",
    "print(single_quote_string)\n",
    "print(double_quote_string)\n"
   ]
  },
  {
   "cell_type": "code",
   "execution_count": 24,
   "id": "83f7e150",
   "metadata": {},
   "outputs": [
    {
     "name": "stdout",
     "output_type": "stream",
     "text": [
      "This is a string with an escape character: \n",
      "New line here.\n"
     ]
    }
   ],
   "source": [
    "# Code to demonstrate escape characters\n",
    "escaped_string = \"This is a string with an escape character: \\nNew line here.\"\n",
    "print(escaped_string)"
   ]
  },
  {
   "cell_type": "code",
   "execution_count": 25,
   "id": "051fda10",
   "metadata": {},
   "outputs": [
    {
     "name": "stdout",
     "output_type": "stream",
     "text": [
      "Value of a: 20\n",
      "Value of A: 30\n"
     ]
    }
   ],
   "source": [
    "# Case-Sensitive\n",
    "# Python is case-sensitive, meaning that variable names must be used consistently.\n",
    "a = 20  # This is a variable named 'a'\n",
    "A = 30  # This is a variable named 'A' and it is a different variable due to case sensitivity\n",
    "print(\"Value of a:\", a) # This will print the value of the variable a\n",
    "print(\"Value of A:\", A) # This will print the value of the variable A"
   ]
  },
  {
   "cell_type": "markdown",
   "id": "da2ea44c",
   "metadata": {},
   "source": [
    "**Variable Names:**\n",
    "\n",
    "* Rules for Python variables:\n",
    "\n",
    "1. A variable name must start with a letter or the underscore character\n",
    "2. A variable name cannot start with a number\n",
    "3. A variable name can only contain alpha-numeric characters and underscores (A-z, 0-9, and _ )\n",
    "4. Variable names are case-sensitive (age, Age and AGE are three different variables)\n",
    "5. A variable name cannot be any of the Python keywords."
   ]
  },
  {
   "cell_type": "code",
   "execution_count": 26,
   "id": "3968d397",
   "metadata": {},
   "outputs": [
    {
     "name": "stdout",
     "output_type": "stream",
     "text": [
      "Value of myvariable: 100\n",
      "Value of myVariable: 200\n",
      "Value of my_variable_2: 300\n",
      "Value of _my_variable: 400\n",
      "Value of myVariable2: 500\n",
      "Value of MYVARIABLE: 600\n",
      "Value of MyVariableName: 700\n"
     ]
    }
   ],
   "source": [
    "# Variable names can contain letters, numbers, and underscores.\n",
    "# They cannot start with a number and cannot contain special characters like @, #, $, etc   \n",
    "# Example of variable naming\n",
    "myvariable = 100  # Valid variable name\n",
    "myVariable = 200  # Valid variable name with camelCase \n",
    "my_variable_2 = 300  # Valid variable name with underscores\n",
    "_my_variable = 400  # Valid variable name with underscores\n",
    "myVariable2 = 500  # Valid variable name with camelCase and number\n",
    "MYVARIABLE = 600  # Valid variable name in uppercase\n",
    "MyVariableName = 700  # Valid variable name with pascal case\n",
    "print(\"Value of myvariable:\", myvariable)\n",
    "print(\"Value of myVariable:\", myVariable)\n",
    "print(\"Value of my_variable_2:\", my_variable_2)\n",
    "print(\"Value of _my_variable:\", _my_variable)\n",
    "print(\"Value of myVariable2:\", myVariable2)\n",
    "print(\"Value of MYVARIABLE:\", MYVARIABLE)\n",
    "print(\"Value of MyVariableName:\", MyVariableName)\n"
   ]
  },
  {
   "cell_type": "markdown",
   "id": "5cd111a8",
   "metadata": {},
   "source": [
    "**Assigning Multiple Values**"
   ]
  },
  {
   "cell_type": "code",
   "execution_count": 27,
   "id": "28ea89d2",
   "metadata": {},
   "outputs": [
    {
     "name": "stdout",
     "output_type": "stream",
     "text": [
      "Values of x, y, z: 10 20 30\n",
      "Values of x, y, z after assignment: 10 10 10\n",
      "Unpacked values from fruit tuple: apple banana cherry\n"
     ]
    }
   ],
   "source": [
    "# Assigning multiple variables in one line\n",
    "x, y, z = 10, 20, 30\n",
    "print(\"Values of x, y, z:\", x, y, z)\n",
    "\n",
    "# One value to multiple variables\n",
    "x = y = z = 10\n",
    "print(\"Values of x, y, z after assignment:\", x, y, z)\n",
    "\n",
    "# If you have a collection of values in a list, tuple etc. Python allows you to extract the values into variables. This is called unpacking.\n",
    "# Unpacking a collection into variables\n",
    "fruit = (\"apple\", \"banana\", \"cherry\")\n",
    "a, b, c = fruit\n",
    "print(\"Unpacked values from fruit tuple:\", a, b, c)"
   ]
  },
  {
   "cell_type": "markdown",
   "id": "628e71ca",
   "metadata": {},
   "source": [
    "**Global and Local Variables**\n",
    "\n",
    "* Variables that are created outside of a function are known as global variables.\n",
    "* Global variables can be used by everyone, both inside of functions and outside.\n",
    "* If you create a variable with the same name inside a function, this variable will be local, and can only be used inside the function. \n",
    "* The global variable with the same name will remain as it was, global and with the original value.\n",
    "* In general, when you create a variable inside a function, that variable is local, and can only be used inside that function.\n",
    "* To create a global variable inside a function, you can use the global keyword."
   ]
  },
  {
   "cell_type": "code",
   "execution_count": null,
   "id": "089d6c26",
   "metadata": {},
   "outputs": [
    {
     "name": "stdout",
     "output_type": "stream",
     "text": [
      "local_var: I am a local variable\n",
      "global_var: I am a global variable\n",
      "\n",
      "local_var: I am a Local Variable. But, Modified to be a global variable\n",
      "x value before we call the function:  10\n",
      "x value after calling the function:  30\n"
     ]
    }
   ],
   "source": [
    "# Global and local variables\n",
    "# Trying to access local variable outside its scope will raise an error\n",
    "# print(local_var)  # Uncommenting this line will raise a NameError\n",
    "\n",
    "global_var = \"global_var: I am a global variable\"\n",
    "# This variable can be accessed anywhere in the script\n",
    "def my_function(): # This function demonstrates local and global variable scope\n",
    "    local_var = \"local_var: I am a local variable\"\n",
    "    print(local_var)  # This will print the local variable\n",
    "    print(global_var)  # This will print the global variable\n",
    "\n",
    "my_function()\n",
    "print(\"\")\n",
    "\n",
    "# Using the global keyword to modify a global variable inside a function\n",
    "def modify_global():\n",
    "    global local_var \n",
    "    local_var =  \"local_var: I am a Local Variable. But, Modified to be a global variable\"\n",
    "\n",
    "\n",
    "modify_global() # This will print the local variable and global variable\n",
    "print(local_var)  # This will print the modified local variable\n",
    "\n",
    "\n",
    "# To change the value of a global variable inside a function, refer to the same variable name by using the global keyword.\n",
    "\n",
    "x = 10 # Global variable\n",
    "\n",
    "def myfunc():\n",
    "  global x\n",
    "  x = 30 # Global variable defined in fuction with the same name as Global variable outside the function\n",
    "\n",
    "print(\"x value before we call the function: \", x)\n",
    "myfunc()\n",
    "\n",
    "print(\"x value after calling the function: \", x) # This prints the x value assigned within the function as it overrides external x value when the function is called.\n"
   ]
  }
 ],
 "metadata": {
  "kernelspec": {
   "display_name": "Python 3",
   "language": "python",
   "name": "python3"
  },
  "language_info": {
   "codemirror_mode": {
    "name": "ipython",
    "version": 3
   },
   "file_extension": ".py",
   "mimetype": "text/x-python",
   "name": "python",
   "nbconvert_exporter": "python",
   "pygments_lexer": "ipython3",
   "version": "3.10.11"
  }
 },
 "nbformat": 4,
 "nbformat_minor": 5
}
