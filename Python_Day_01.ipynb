{
  "nbformat": 4,
  "nbformat_minor": 0,
  "metadata": {
    "colab": {
      "provenance": []
    },
    "kernelspec": {
      "name": "python3",
      "display_name": "Python 3"
    },
    "language_info": {
      "name": "python"
    }
  },
  "cells": [
    {
      "cell_type": "code",
      "execution_count": null,
      "metadata": {
        "id": "G5Xl3icGDtD1"
      },
      "outputs": [],
      "source": [
        "a = \"hello LevelUp, i am learning python\""
      ]
    },
    {
      "cell_type": "code",
      "source": [
        "print(a)"
      ],
      "metadata": {
        "colab": {
          "base_uri": "https://localhost:8080/",
          "height": 144
        },
        "id": "dhJWQpZAEFw1",
        "outputId": "cf9d9c91-1bdf-4af6-87d3-2fdd1a21d41e"
      },
      "execution_count": null,
      "outputs": [
        {
          "output_type": "error",
          "ename": "NameError",
          "evalue": "name 'a' is not defined",
          "traceback": [
            "\u001b[0;31m---------------------------------------------------------------------------\u001b[0m",
            "\u001b[0;31mNameError\u001b[0m                                 Traceback (most recent call last)",
            "\u001b[0;32m<ipython-input-1-bca0e2660b9f>\u001b[0m in \u001b[0;36m<cell line: 0>\u001b[0;34m()\u001b[0m\n\u001b[0;32m----> 1\u001b[0;31m \u001b[0mprint\u001b[0m\u001b[0;34m(\u001b[0m\u001b[0ma\u001b[0m\u001b[0;34m)\u001b[0m\u001b[0;34m\u001b[0m\u001b[0;34m\u001b[0m\u001b[0m\n\u001b[0m",
            "\u001b[0;31mNameError\u001b[0m: name 'a' is not defined"
          ]
        }
      ]
    },
    {
      "cell_type": "code",
      "source": [
        "name = input(\"enter the name:\")\n",
        "age = 25\n",
        "color = \"green\"\n",
        "\n",
        "print(name)\n",
        "print(\"name\")\n"
      ],
      "metadata": {
        "colab": {
          "base_uri": "https://localhost:8080/"
        },
        "id": "-U6taDwAEpAc",
        "outputId": "a4f166a8-65e2-44c9-8c7a-02a190d06ab8"
      },
      "execution_count": null,
      "outputs": [
        {
          "output_type": "stream",
          "name": "stdout",
          "text": [
            "enter the name:zxfbn\n",
            "zxfbn\n"
          ]
        }
      ]
    },
    {
      "cell_type": "code",
      "source": [
        "pin =1234"
      ],
      "metadata": {
        "id": "ZpPotJui_LBn"
      },
      "execution_count": null,
      "outputs": []
    },
    {
      "cell_type": "code",
      "source": [
        "a = int(input(\"enter the number\"))\n",
        "\n",
        "b = int(input(\"enter the number\"))\n",
        "print(a+b)"
      ],
      "metadata": {
        "colab": {
          "base_uri": "https://localhost:8080/"
        },
        "id": "eMm_0csaAPJp",
        "outputId": "404590f9-4f61-471b-b24a-fa2520855eee"
      },
      "execution_count": null,
      "outputs": [
        {
          "output_type": "stream",
          "name": "stdout",
          "text": [
            "enter the number100\n",
            "enter the number200\n",
            "300\n"
          ]
        }
      ]
    },
    {
      "cell_type": "code",
      "source": [
        "# Taking the input from the usera"
      ],
      "metadata": {
        "id": "uc3lIVtgAHt7"
      },
      "execution_count": null,
      "outputs": []
    },
    {
      "cell_type": "code",
      "source": [
        "name = \"raju\"\n",
        "age = 40\n",
        "\n",
        "print(name) # this will print the value of variable\n",
        "print(\"this is python\") # this will print litrally what ever value is in the \" \"\n",
        "print(\"My name is \",name,\"and my age is \" ,age)\n",
        "print(f\"my name is {name} and my age is {age}\")"
      ],
      "metadata": {
        "colab": {
          "base_uri": "https://localhost:8080/"
        },
        "id": "gUpAz2kDAvh1",
        "outputId": "6bc18d65-80e0-412a-a141-df9bf73940d3"
      },
      "execution_count": null,
      "outputs": [
        {
          "output_type": "stream",
          "name": "stdout",
          "text": [
            "raju\n",
            "this is python\n",
            "My name is  raju and my age is  40\n",
            "my name is raju and my age is 40\n"
          ]
        }
      ]
    },
    {
      "cell_type": "code",
      "source": [
        "name = input(\"enter the name:\")\n",
        "print(name)"
      ],
      "metadata": {
        "colab": {
          "base_uri": "https://localhost:8080/"
        },
        "id": "_xjpzZNp_pA0",
        "outputId": "7698b6b1-5646-4b6c-c3bb-225fcb06718d"
      },
      "execution_count": null,
      "outputs": [
        {
          "output_type": "stream",
          "name": "stdout",
          "text": [
            "enter the name:1234\n",
            "1234\n"
          ]
        }
      ]
    },
    {
      "cell_type": "markdown",
      "source": [
        "this is notes"
      ],
      "metadata": {
        "id": "gSPLZZluGvrM"
      }
    },
    {
      "cell_type": "code",
      "source": [],
      "metadata": {
        "id": "S2EpFkYaGvX8"
      },
      "execution_count": null,
      "outputs": []
    },
    {
      "cell_type": "code",
      "source": [
        "pin=int(input(\"please enter your pin number\"))\n",
        "print(pin)"
      ],
      "metadata": {
        "colab": {
          "base_uri": "https://localhost:8080/"
        },
        "id": "QuD4flQC_E8E",
        "outputId": "fab1a1b2-69c0-4497-9e86-8f4f1d860914"
      },
      "execution_count": null,
      "outputs": [
        {
          "output_type": "stream",
          "name": "stdout",
          "text": [
            "please enter your pin number1234\n",
            "1234\n"
          ]
        }
      ]
    },
    {
      "cell_type": "code",
      "source": [
        "print(f\"Hello,{name}!\")\n",
        "print(f\"Hello,{name} is {age} years old!\")\n",
        "print(f\"Hello,{name}'s favourite color is {color}\")\n",
        "\n",
        "print()"
      ],
      "metadata": {
        "id": "AurPo8jOFJJM"
      },
      "execution_count": null,
      "outputs": []
    },
    {
      "cell_type": "code",
      "source": [
        "a = 10\n",
        "print(a)\n",
        "\n",
        "a=b=c=d=10,\n",
        "\n",
        "e = d\n",
        "print(a)\n",
        "print(b)\n",
        "print(c)\n",
        "print(d)\n",
        "print(e)"
      ],
      "metadata": {
        "colab": {
          "base_uri": "https://localhost:8080/"
        },
        "id": "1d5OzkKGCD5R",
        "outputId": "5231b818-f087-446b-8112-a3eae2fee921"
      },
      "execution_count": null,
      "outputs": [
        {
          "output_type": "stream",
          "name": "stdout",
          "text": [
            "10\n",
            "10\n",
            "10\n",
            "10\n",
            "10\n",
            "10\n"
          ]
        }
      ]
    },
    {
      "cell_type": "code",
      "source": [
        "a,b,c,d,e =10,20,30,40,a\n",
        "\n",
        "print(a)\n",
        "print(b)\n",
        "print(c)\n",
        "print(d)\n",
        "print(e)"
      ],
      "metadata": {
        "colab": {
          "base_uri": "https://localhost:8080/"
        },
        "id": "j4JcrThhCl78",
        "outputId": "2a91ae51-4c1e-4802-ff34-50b806beb9e8"
      },
      "execution_count": null,
      "outputs": [
        {
          "output_type": "stream",
          "name": "stdout",
          "text": [
            "10\n",
            "20\n",
            "30\n",
            "40\n",
            "10\n"
          ]
        }
      ]
    },
    {
      "cell_type": "code",
      "source": [
        "a = True\n",
        "type(a)"
      ],
      "metadata": {
        "colab": {
          "base_uri": "https://localhost:8080/"
        },
        "id": "Z4vTm207DOlv",
        "outputId": "9efec903-3295-445b-8b16-6cf60e52ecf8"
      },
      "execution_count": null,
      "outputs": [
        {
          "output_type": "execute_result",
          "data": {
            "text/plain": [
              "bool"
            ]
          },
          "metadata": {},
          "execution_count": 29
        }
      ]
    },
    {
      "cell_type": "code",
      "source": [
        "# int   -> numbers\n",
        "# string  -> Group of charaters\n",
        "# Float   -> Decimal values\n",
        "# Boolen -> True or false\n",
        "\n"
      ],
      "metadata": {
        "id": "edGqCG8iC9jd"
      },
      "execution_count": null,
      "outputs": []
    },
    {
      "cell_type": "code",
      "source": [],
      "metadata": {
        "id": "rmxOogwBC9WE"
      },
      "execution_count": null,
      "outputs": []
    },
    {
      "cell_type": "markdown",
      "source": [],
      "metadata": {
        "id": "yodQdZAyC8_D"
      }
    },
    {
      "cell_type": "code",
      "source": [],
      "metadata": {
        "id": "ivuMNry2Cscr"
      },
      "execution_count": null,
      "outputs": []
    },
    {
      "cell_type": "code",
      "source": [
        "a=b=c=100\n",
        "print(a)\n",
        "print(b)\n",
        "print(c)\n",
        "print(a,b,c)"
      ],
      "metadata": {
        "colab": {
          "base_uri": "https://localhost:8080/"
        },
        "id": "Pxe8fE41Ht7Y",
        "outputId": "46f02507-2467-49ab-e2c8-b7f643b91590"
      },
      "execution_count": null,
      "outputs": [
        {
          "output_type": "stream",
          "name": "stdout",
          "text": [
            "100\n",
            "100\n",
            "100\n",
            "100 100 100\n"
          ]
        }
      ]
    },
    {
      "cell_type": "code",
      "source": [
        "type(a)"
      ],
      "metadata": {
        "colab": {
          "base_uri": "https://localhost:8080/"
        },
        "id": "HWX8fZj1ILI4",
        "outputId": "d656f749-e833-467b-dd02-bbcdf03bbc78"
      },
      "execution_count": null,
      "outputs": [
        {
          "output_type": "execute_result",
          "data": {
            "text/plain": [
              "int"
            ]
          },
          "metadata": {},
          "execution_count": 19
        }
      ]
    },
    {
      "cell_type": "code",
      "source": [
        "x,y,z = 1,10.5,\"levelup\"\n",
        "print(x)\n",
        "print(y)\n",
        "print(z)"
      ],
      "metadata": {
        "colab": {
          "base_uri": "https://localhost:8080/"
        },
        "id": "FbFcZ-E0H4Ot",
        "outputId": "b957aeae-02af-4437-8fcc-b0436fcbab35"
      },
      "execution_count": null,
      "outputs": [
        {
          "output_type": "stream",
          "name": "stdout",
          "text": [
            "1\n",
            "10.5\n",
            "levelup\n"
          ]
        }
      ]
    },
    {
      "cell_type": "code",
      "source": [
        "del x\n",
        "del y\n",
        "del z"
      ],
      "metadata": {
        "id": "fFgp_kQnGHS_"
      },
      "execution_count": null,
      "outputs": []
    },
    {
      "cell_type": "code",
      "source": [
        "print(x)"
      ],
      "metadata": {
        "colab": {
          "base_uri": "https://localhost:8080/",
          "height": 144
        },
        "id": "srrw1OZuGMAO",
        "outputId": "3c647642-a738-4023-a3b2-6a3083ebb868"
      },
      "execution_count": null,
      "outputs": [
        {
          "output_type": "error",
          "ename": "NameError",
          "evalue": "name 'x' is not defined",
          "traceback": [
            "\u001b[0;31m---------------------------------------------------------------------------\u001b[0m",
            "\u001b[0;31mNameError\u001b[0m                                 Traceback (most recent call last)",
            "\u001b[0;32m<ipython-input-37-fc17d851ef81>\u001b[0m in \u001b[0;36m<cell line: 0>\u001b[0;34m()\u001b[0m\n\u001b[0;32m----> 1\u001b[0;31m \u001b[0mprint\u001b[0m\u001b[0;34m(\u001b[0m\u001b[0mx\u001b[0m\u001b[0;34m)\u001b[0m\u001b[0;34m\u001b[0m\u001b[0;34m\u001b[0m\u001b[0m\n\u001b[0m",
            "\u001b[0;31mNameError\u001b[0m: name 'x' is not defined"
          ]
        }
      ]
    },
    {
      "cell_type": "code",
      "source": [
        "a = 10\n"
      ],
      "metadata": {
        "id": "DnGql1YbERQ1"
      },
      "execution_count": null,
      "outputs": []
    },
    {
      "cell_type": "code",
      "source": [
        "indentation\n",
        "\n",
        "{\n",
        "    [IndentationError]\n",
        "}"
      ],
      "metadata": {
        "id": "kGn3qYJaEyOr"
      },
      "execution_count": null,
      "outputs": []
    },
    {
      "cell_type": "code",
      "source": [
        "message = \" I am a global variable\"\n",
        "\n",
        "def greet():\n",
        "  greeting = \" Hello i am local variable\"\n",
        "  print(greeting)\n",
        "  print(message)\n",
        "\n",
        "#greet()\n",
        "print(message)\n",
        "#print(greeting)"
      ],
      "metadata": {
        "colab": {
          "base_uri": "https://localhost:8080/"
        },
        "id": "8wcCg0b8NBtK",
        "outputId": "8a9143ec-c437-48bf-ca59-e7f4510b214b"
      },
      "execution_count": null,
      "outputs": [
        {
          "output_type": "stream",
          "name": "stdout",
          "text": [
            " I am a global variable\n"
          ]
        }
      ]
    },
    {
      "cell_type": "code",
      "source": [
        "a,b = 5,10\n",
        "print(a)\n",
        "print(b)\n",
        "\n",
        "a,b=b,a\n",
        "print(a)\n",
        "print(b)"
      ],
      "metadata": {
        "colab": {
          "base_uri": "https://localhost:8080/"
        },
        "id": "qR0mfvtDOv9k",
        "outputId": "1b44cfe8-cb82-46fd-c054-0f371f69226d"
      },
      "execution_count": null,
      "outputs": [
        {
          "output_type": "stream",
          "name": "stdout",
          "text": [
            "5\n",
            "10\n",
            "10\n",
            "5\n"
          ]
        }
      ]
    },
    {
      "cell_type": "code",
      "source": [
        "del a\n",
        "del b"
      ],
      "metadata": {
        "id": "ftXIqNqIO-tj"
      },
      "execution_count": null,
      "outputs": []
    },
    {
      "cell_type": "code",
      "source": [
        "print(a)"
      ],
      "metadata": {
        "colab": {
          "base_uri": "https://localhost:8080/",
          "height": 144
        },
        "id": "1NpYDYlfPBKK",
        "outputId": "af13dbbd-6faa-4910-ec84-3689345f903c"
      },
      "execution_count": null,
      "outputs": [
        {
          "output_type": "error",
          "ename": "NameError",
          "evalue": "name 'a' is not defined",
          "traceback": [
            "\u001b[0;31m---------------------------------------------------------------------------\u001b[0m",
            "\u001b[0;31mNameError\u001b[0m                                 Traceback (most recent call last)",
            "\u001b[0;32m<ipython-input-26-bca0e2660b9f>\u001b[0m in \u001b[0;36m<cell line: 0>\u001b[0;34m()\u001b[0m\n\u001b[0;32m----> 1\u001b[0;31m \u001b[0mprint\u001b[0m\u001b[0;34m(\u001b[0m\u001b[0ma\u001b[0m\u001b[0;34m)\u001b[0m\u001b[0;34m\u001b[0m\u001b[0;34m\u001b[0m\u001b[0m\n\u001b[0m",
            "\u001b[0;31mNameError\u001b[0m: name 'a' is not defined"
          ]
        }
      ]
    },
    {
      "cell_type": "markdown",
      "source": [
        "# DATA TYPES"
      ],
      "metadata": {
        "id": "lGThFJUQSwQq"
      }
    },
    {
      "cell_type": "code",
      "source": [
        "a = 4\n",
        "b= 4.5\n",
        "c =4j\n",
        "\n",
        "print(type(a))\n",
        "print(type(b))\n",
        "print(type(c))"
      ],
      "metadata": {
        "colab": {
          "base_uri": "https://localhost:8080/"
        },
        "id": "chhfP0_-Sy08",
        "outputId": "71aa3f71-2720-42e8-a04f-4df14bd1dd9c"
      },
      "execution_count": null,
      "outputs": [
        {
          "output_type": "stream",
          "name": "stdout",
          "text": [
            "<class 'int'>\n",
            "<class 'float'>\n",
            "<class 'complex'>\n"
          ]
        }
      ]
    },
    {
      "cell_type": "code",
      "source": [
        "a = True\n",
        "print(type(a))\n",
        "\n",
        "b = False\n",
        "print(type(b))"
      ],
      "metadata": {
        "colab": {
          "base_uri": "https://localhost:8080/"
        },
        "id": "ZONqZowMTofd",
        "outputId": "559f7217-68ae-4531-e440-98c5feddbc5c"
      },
      "execution_count": null,
      "outputs": [
        {
          "output_type": "stream",
          "name": "stdout",
          "text": [
            "<class 'bool'>\n",
            "<class 'bool'>\n"
          ]
        }
      ]
    },
    {
      "cell_type": "code",
      "source": [
        "s = \"This is LevelUp\"\n",
        "print(type(s))"
      ],
      "metadata": {
        "colab": {
          "base_uri": "https://localhost:8080/"
        },
        "id": "9OuviHNcTyrX",
        "outputId": "f364e404-80ac-4ec3-a26a-eee34292ba7d"
      },
      "execution_count": null,
      "outputs": [
        {
          "output_type": "stream",
          "name": "stdout",
          "text": [
            "<class 'str'>\n"
          ]
        }
      ]
    },
    {
      "cell_type": "code",
      "source": [
        "a = [10,29,30,45,65]\n",
        "print(type(a))"
      ],
      "metadata": {
        "colab": {
          "base_uri": "https://localhost:8080/"
        },
        "id": "IOE66QbNT-rZ",
        "outputId": "d584906f-ceea-4bdf-8b4c-4c2a2cc57e71"
      },
      "execution_count": null,
      "outputs": [
        {
          "output_type": "stream",
          "name": "stdout",
          "text": [
            "<class 'list'>\n"
          ]
        }
      ]
    },
    {
      "cell_type": "code",
      "source": [
        "t =(1,2,3)\n",
        "print(type(t))"
      ],
      "metadata": {
        "colab": {
          "base_uri": "https://localhost:8080/"
        },
        "id": "Cl8rkTtGUJdB",
        "outputId": "4fa9584d-a3a0-4d09-884f-f0e2029bfe86"
      },
      "execution_count": null,
      "outputs": [
        {
          "output_type": "stream",
          "name": "stdout",
          "text": [
            "<class 'tuple'>\n"
          ]
        }
      ]
    },
    {
      "cell_type": "code",
      "source": [
        "d ={'name':'LevelUP','age':25}\n",
        "print(type(d))"
      ],
      "metadata": {
        "colab": {
          "base_uri": "https://localhost:8080/"
        },
        "id": "NodWKkeXUKZ4",
        "outputId": "42052928-183b-4434-b635-128aa988eac7"
      },
      "execution_count": null,
      "outputs": [
        {
          "output_type": "stream",
          "name": "stdout",
          "text": [
            "<class 'dict'>\n"
          ]
        }
      ]
    },
    {
      "cell_type": "code",
      "source": [
        "set1 = {1,2,3,4,5}\n",
        "print(type(set1))"
      ],
      "metadata": {
        "colab": {
          "base_uri": "https://localhost:8080/"
        },
        "id": "t4E5xztXUjGb",
        "outputId": "70cd44b6-49db-415d-d76c-320c05fe9943"
      },
      "execution_count": null,
      "outputs": [
        {
          "output_type": "stream",
          "name": "stdout",
          "text": [
            "<class 'set'>\n"
          ]
        }
      ]
    },
    {
      "cell_type": "code",
      "source": [
        "manohar joined class on march 5th"
      ],
      "metadata": {
        "id": "o9vsfnkgrkPq"
      },
      "execution_count": null,
      "outputs": []
    },
    {
      "cell_type": "code",
      "source": [
        "studentname =10\n",
        "\n",
        "print(studentname,'joined class on march 5th')"
      ],
      "metadata": {
        "colab": {
          "base_uri": "https://localhost:8080/"
        },
        "id": "Tts9Uq4PrfUp",
        "outputId": "a17ec30f-5a8e-40a1-df0d-156ebd6be1ca"
      },
      "execution_count": null,
      "outputs": [
        {
          "output_type": "stream",
          "name": "stdout",
          "text": [
            "10 joined class on march 5th\n"
          ]
        }
      ]
    },
    {
      "cell_type": "code",
      "source": [
        "pin = int(input(\"enter pin\"))\n",
        "print(pin)"
      ],
      "metadata": {
        "colab": {
          "base_uri": "https://localhost:8080/"
        },
        "id": "A2X1hhEGlfcr",
        "outputId": "fd9707e5-bcd4-46fb-f044-cfc7a9503d54"
      },
      "execution_count": null,
      "outputs": [
        {
          "output_type": "stream",
          "name": "stdout",
          "text": [
            "enter pin2345\n",
            "2345\n"
          ]
        }
      ]
    },
    {
      "cell_type": "code",
      "source": [],
      "metadata": {
        "id": "oqstn_kYmbjF"
      },
      "execution_count": null,
      "outputs": []
    },
    {
      "cell_type": "markdown",
      "source": [
        "Strings\n",
        "\n",
        "str1= 'Hello,LevelUp!'\n",
        "str2 = \"Learning python is fun\"\n",
        "str3 = \"\"\" this\n",
        "string\n",
        "is an\n",
        "example\n",
        "of multi lines\"\n",
        "\n",
        "pr\n"
      ],
      "metadata": {
        "id": "rYD0m7ALmcxZ"
      }
    },
    {
      "cell_type": "code",
      "source": [
        "str1= 'Hello,LevelUp!'\n",
        "str2 = \"Learning python is fun\"\n",
        "str3 = \"\"\" this\n",
        "string\n",
        "is an\n",
        "example\n",
        "of multi lines\"\"\"\n",
        "\n",
        "\n",
        "print(str1)\n",
        "print(str2)\n",
        "print(str3)"
      ],
      "metadata": {
        "colab": {
          "base_uri": "https://localhost:8080/"
        },
        "id": "xUI9R3bGnEHn",
        "outputId": "13fafcc1-17ee-4769-d79f-0f7ebf5b8e8c"
      },
      "execution_count": null,
      "outputs": [
        {
          "output_type": "stream",
          "name": "stdout",
          "text": [
            "Hello,LevelUp!\n",
            "Learning python is fun\n",
            " this\n",
            "string\n",
            "is an\n",
            "example\n",
            "of multi lines\n"
          ]
        }
      ]
    },
    {
      "cell_type": "code",
      "source": [
        "print(type(str1))"
      ],
      "metadata": {
        "colab": {
          "base_uri": "https://localhost:8080/"
        },
        "id": "Z_fYi1YgnPsK",
        "outputId": "238fc7af-5ba5-4e26-b8f5-2b0b29154157"
      },
      "execution_count": null,
      "outputs": [
        {
          "output_type": "stream",
          "name": "stdout",
          "text": [
            "<class 'str'>\n"
          ]
        }
      ]
    },
    {
      "cell_type": "code",
      "source": [
        "text = \"i am leanrING python\"\n",
        "text.capitalize()\n",
        "text.upper()\n",
        "text.lower()\n",
        "text.swapcase()\n",
        "text.count('')\n",
        "# print(len(text))\n",
        "filename = \"report.pdf\"\n",
        "#filename.endswith('.pdf')\n",
        "result = filename.endswith('.pdf')\n",
        "\n",
        "print(result)\n",
        "\n"
      ],
      "metadata": {
        "colab": {
          "base_uri": "https://localhost:8080/"
        },
        "id": "idjFudKJnlaV",
        "outputId": "739e04af-5221-437a-f95b-64f3e54e8cf4"
      },
      "execution_count": null,
      "outputs": [
        {
          "output_type": "stream",
          "name": "stdout",
          "text": [
            "True\n"
          ]
        }
      ]
    },
    {
      "cell_type": "code",
      "source": [
        "text = \"hello\\tLevelUP\"\n",
        "text = \"hello\\nLevelUP\"\n",
        "print(text)"
      ],
      "metadata": {
        "colab": {
          "base_uri": "https://localhost:8080/"
        },
        "id": "SC7-J26Qp7m2",
        "outputId": "0b68b901-06f2-469a-e743-a13144ef262f"
      },
      "execution_count": null,
      "outputs": [
        {
          "output_type": "stream",
          "name": "stdout",
          "text": [
            "hello\n",
            "LevelUP\n"
          ]
        }
      ]
    },
    {
      "cell_type": "code",
      "source": [
        "text = \"Thisispythonclass1\"\n",
        "\n",
        "result = text.isalnum()\n",
        "print(result)"
      ],
      "metadata": {
        "colab": {
          "base_uri": "https://localhost:8080/"
        },
        "id": "LcyXZ6o6qQO9",
        "outputId": "7f0fff9f-0ee5-46ea-b41e-aa4f3f5ef661"
      },
      "execution_count": null,
      "outputs": [
        {
          "output_type": "stream",
          "name": "stdout",
          "text": [
            "True\n"
          ]
        }
      ]
    },
    {
      "cell_type": "code",
      "source": [
        "text = \"Thisispythonclass1\"\n",
        "result = text.isalpha()\n",
        "print(result)"
      ],
      "metadata": {
        "colab": {
          "base_uri": "https://localhost:8080/"
        },
        "id": "m7qMNz_drbj7",
        "outputId": "c22e31a8-116b-4243-eba6-16dce8959cd7"
      },
      "execution_count": null,
      "outputs": [
        {
          "output_type": "stream",
          "name": "stdout",
          "text": [
            "False\n"
          ]
        }
      ]
    },
    {
      "cell_type": "code",
      "source": [
        "text=\"12345\"\n",
        "result = text.isdigit()\n",
        "print(result)"
      ],
      "metadata": {
        "colab": {
          "base_uri": "https://localhost:8080/"
        },
        "id": "h8xWrDt9qsnk",
        "outputId": "b2b05e9f-0edb-41eb-c769-3be6d0a9e4b7"
      },
      "execution_count": null,
      "outputs": [
        {
          "output_type": "stream",
          "name": "stdout",
          "text": [
            "True\n"
          ]
        }
      ]
    },
    {
      "cell_type": "markdown",
      "source": [],
      "metadata": {
        "id": "bcGs8ftvq1Qn"
      }
    },
    {
      "cell_type": "code",
      "source": [
        "text = \"i am leanrING python\"\n",
        "text.title()"
      ],
      "metadata": {
        "colab": {
          "base_uri": "https://localhost:8080/",
          "height": 35
        },
        "id": "c9OIGA4yrEFC",
        "outputId": "af57e614-6f82-45e9-d5c3-c6da98b48e66"
      },
      "execution_count": null,
      "outputs": [
        {
          "output_type": "execute_result",
          "data": {
            "text/plain": [
              "'I Am Leanring Python'"
            ],
            "application/vnd.google.colaboratory.intrinsic+json": {
              "type": "string"
            }
          },
          "metadata": {},
          "execution_count": 26
        }
      ]
    },
    {
      "cell_type": "code",
      "source": [
        "text = \"i am leanrING python\"\n",
        "text.islower()\n",
        "text.isupper()\n",
        "text.find('i') # -> index"
      ],
      "metadata": {
        "colab": {
          "base_uri": "https://localhost:8080/"
        },
        "id": "wWQIrKhmrkVT",
        "outputId": "4baf7445-4b19-40cc-9710-2827b73b0582"
      },
      "execution_count": null,
      "outputs": [
        {
          "output_type": "execute_result",
          "data": {
            "text/plain": [
              "0"
            ]
          },
          "metadata": {},
          "execution_count": 32
        }
      ]
    },
    {
      "cell_type": "markdown",
      "source": [
        "Python\n",
        "\n",
        "P y t h o n\n",
        "\n",
        "0 1 2 3 4 5  -> left to right\n",
        "\n",
        "-6 -5 -4 -3 -2 -1 -> right to left\n",
        "\n",
        "\n"
      ],
      "metadata": {
        "id": "5KCxSEBer-5w"
      }
    },
    {
      "cell_type": "code",
      "source": [
        "words = [\"hello\",\"Levelup\"]\n",
        "# convert list to a string\n",
        "result =''.join(words)\n",
        "print(result)"
      ],
      "metadata": {
        "colab": {
          "base_uri": "https://localhost:8080/"
        },
        "id": "OxAFuwsbr-Vb",
        "outputId": "29985da1-17a6-437b-fd7e-5b88d26b1326"
      },
      "execution_count": null,
      "outputs": [
        {
          "output_type": "stream",
          "name": "stdout",
          "text": [
            "helloLevelup\n"
          ]
        }
      ]
    },
    {
      "cell_type": "code",
      "source": [
        "text.strip('i')\n",
        "text."
      ],
      "metadata": {
        "colab": {
          "base_uri": "https://localhost:8080/",
          "height": 35
        },
        "id": "KoMeO5R2s-6s",
        "outputId": "67285a53-a3b6-45de-d69e-805f3eb14ebe"
      },
      "execution_count": null,
      "outputs": [
        {
          "output_type": "execute_result",
          "data": {
            "text/plain": [
              "' am leanrING python'"
            ],
            "application/vnd.google.colaboratory.intrinsic+json": {
              "type": "string"
            }
          },
          "metadata": {},
          "execution_count": 35
        }
      ]
    },
    {
      "cell_type": "code",
      "source": [
        "text = \"i am leanrING python\"\n",
        "text.replace('I','a')\n"
      ],
      "metadata": {
        "colab": {
          "base_uri": "https://localhost:8080/",
          "height": 35
        },
        "id": "r__KatpQucUl",
        "outputId": "de645106-eb25-4edc-e1cd-31b36c8de2f4"
      },
      "execution_count": null,
      "outputs": [
        {
          "output_type": "execute_result",
          "data": {
            "text/plain": [
              "'i am leanraNG python'"
            ],
            "application/vnd.google.colaboratory.intrinsic+json": {
              "type": "string"
            }
          },
          "metadata": {},
          "execution_count": 37
        }
      ]
    },
    {
      "cell_type": "code",
      "source": [
        "'a|b|c'.split('|')"
      ],
      "metadata": {
        "colab": {
          "base_uri": "https://localhost:8080/"
        },
        "id": "JJo4X3CZu1P_",
        "outputId": "62eeee43-3a8d-49b2-f608-2b2e2ad515be"
      },
      "execution_count": null,
      "outputs": [
        {
          "output_type": "execute_result",
          "data": {
            "text/plain": [
              "['a', 'b', 'c']"
            ]
          },
          "metadata": {},
          "execution_count": 40
        }
      ]
    },
    {
      "cell_type": "code",
      "source": [
        "text = 'LevelUP'\n",
        "text.zfill(1)"
      ],
      "metadata": {
        "colab": {
          "base_uri": "https://localhost:8080/",
          "height": 35
        },
        "id": "fj952BKXu_fT",
        "outputId": "ec8eb050-0c08-4096-9493-649c915bf9f3"
      },
      "execution_count": null,
      "outputs": [
        {
          "output_type": "execute_result",
          "data": {
            "text/plain": [
              "'LevelUP'"
            ],
            "application/vnd.google.colaboratory.intrinsic+json": {
              "type": "string"
            }
          },
          "metadata": {},
          "execution_count": 44
        }
      ]
    }
  ]
}